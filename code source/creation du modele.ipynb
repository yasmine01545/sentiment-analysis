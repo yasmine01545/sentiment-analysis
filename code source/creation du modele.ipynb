{
 "cells": [
  {
   "cell_type": "code",
   "execution_count": 74,
   "id": "f86e2a14",
   "metadata": {},
   "outputs": [],
   "source": [
    "import tensorflow as tf"
   ]
  },
  {
   "cell_type": "code",
   "execution_count": 75,
   "id": "a51f7c63",
   "metadata": {},
   "outputs": [],
   "source": [
    "# Import Tokenizer and pad_sequences\n",
    "import tensorflow as tf\n",
    "from tensorflow.keras.preprocessing.text import Tokenizer\n",
    "from tensorflow.keras.preprocessing.sequence import pad_sequences\n",
    "\n",
    "# Import numpy and pandas\n",
    "import numpy as np\n",
    "import pandas as pd"
   ]
  },
  {
   "cell_type": "code",
   "execution_count": 76,
   "id": "c49dd603",
   "metadata": {},
   "outputs": [],
   "source": [
    "# Read the csv file\n",
    "dataset = pd.read_csv(\"data.csv\")"
   ]
  },
  {
   "cell_type": "code",
   "execution_count": 77,
   "id": "cae7b2e6",
   "metadata": {
    "scrolled": true
   },
   "outputs": [
    {
     "data": {
      "text/html": [
       "<div>\n",
       "<style scoped>\n",
       "    .dataframe tbody tr th:only-of-type {\n",
       "        vertical-align: middle;\n",
       "    }\n",
       "\n",
       "    .dataframe tbody tr th {\n",
       "        vertical-align: top;\n",
       "    }\n",
       "\n",
       "    .dataframe thead th {\n",
       "        text-align: right;\n",
       "    }\n",
       "</style>\n",
       "<table border=\"1\" class=\"dataframe\">\n",
       "  <thead>\n",
       "    <tr style=\"text-align: right;\">\n",
       "      <th></th>\n",
       "      <th>text</th>\n",
       "      <th>sentiment</th>\n",
       "    </tr>\n",
       "  </thead>\n",
       "  <tbody>\n",
       "    <tr>\n",
       "      <th>0</th>\n",
       "      <td>So there is no way for me to plug it in here i...</td>\n",
       "      <td>0</td>\n",
       "    </tr>\n",
       "    <tr>\n",
       "      <th>1</th>\n",
       "      <td>Good case Excellent value.</td>\n",
       "      <td>1</td>\n",
       "    </tr>\n",
       "    <tr>\n",
       "      <th>2</th>\n",
       "      <td>Great for the jawbone.</td>\n",
       "      <td>1</td>\n",
       "    </tr>\n",
       "    <tr>\n",
       "      <th>3</th>\n",
       "      <td>Tied to charger for conversations lasting more...</td>\n",
       "      <td>0</td>\n",
       "    </tr>\n",
       "    <tr>\n",
       "      <th>4</th>\n",
       "      <td>The mic is great.</td>\n",
       "      <td>1</td>\n",
       "    </tr>\n",
       "  </tbody>\n",
       "</table>\n",
       "</div>"
      ],
      "text/plain": [
       "                                                text  sentiment\n",
       "0  So there is no way for me to plug it in here i...          0\n",
       "1                         Good case Excellent value.          1\n",
       "2                             Great for the jawbone.          1\n",
       "3  Tied to charger for conversations lasting more...          0\n",
       "4                                  The mic is great.          1"
      ]
     },
     "execution_count": 77,
     "metadata": {},
     "output_type": "execute_result"
    }
   ],
   "source": [
    "\n",
    "# Review the first few entries in the dataset\n",
    "dataset.head()"
   ]
  },
  {
   "cell_type": "code",
   "execution_count": 78,
   "id": "9384a45d",
   "metadata": {},
   "outputs": [],
   "source": [
    "# Get the reviews from the text column\n",
    "reviews = dataset['text'].tolist()"
   ]
  },
  {
   "cell_type": "code",
   "execution_count": 79,
   "id": "515b4445",
   "metadata": {},
   "outputs": [
    {
     "data": {
      "text/plain": [
       "array(['So there is no way for me to plug it in here in the US unless I go by a converter.',\n",
       "       'Good case Excellent value.', 'Great for the jawbone.', ...,\n",
       "       'Overall I was not impressed and would not go back.',\n",
       "       \"The whole experience was underwhelming and I think we'll just go to Ninja Sushi next time.\",\n",
       "       \"Then as if I hadn't wasted enough of my life there they poured salt in the wound by drawing out the time it took to bring the check.\"],\n",
       "      dtype=object)"
      ]
     },
     "execution_count": 79,
     "metadata": {},
     "output_type": "execute_result"
    }
   ],
   "source": [
    "texts = dataset['text'].values\n",
    "texts\n",
    "    "
   ]
  },
  {
   "cell_type": "code",
   "execution_count": 80,
   "id": "652dd7bb",
   "metadata": {},
   "outputs": [
    {
     "name": "stdout",
     "output_type": "stream",
     "text": [
      "3259\n",
      "{'<OOV>': 1, 'the': 2, 'and': 3, 'i': 4, 'a': 5, 'it': 6, 'to': 7, 'is': 8, 'was': 9, 'this': 10, 'of': 11, 'not': 12, 'for': 13, 'my': 14, 'in': 15, 'with': 16, 'very': 17, 'good': 18, 'great': 19, 'phone': 20, 'that': 21, 'on': 22, 'have': 23, 'you': 24, 'food': 25, 'had': 26, 'place': 27, 'but': 28, 'service': 29, 'so': 30, 'are': 31, 'be': 32, 'we': 33, 'all': 34, 'as': 35, 'at': 36, 'like': 37, 'they': 38, 'back': 39, 'time': 40, 'one': 41, 'were': 42, 'quality': 43, 'would': 44, 'here': 45, 'really': 46, 'if': 47, 'from': 48, 'well': 49, 'your': 50, 'just': 51, 'product': 52, 'up': 53, 'best': 54, \"don't\": 55, 'no': 56, 'will': 57, 'an': 58, 'there': 59, 'go': 60, 'me': 61, 'has': 62, 'only': 63, 'also': 64, 'works': 65, \"i've\": 66, 'out': 67, 'headset': 68, 'nice': 69, 'ever': 70, 'battery': 71, \"it's\": 72, 'sound': 73, 'than': 74, 'use': 75, 'or': 76, 'when': 77, \"i'm\": 78, 'our': 79, 'get': 80, 'what': 81, 'their': 82, 'after': 83, 'love': 84, 'been': 85, 'did': 86, 'excellent': 87, 'recommend': 88, 'even': 89, 'more': 90, 'again': 91, 'first': 92, 'too': 93, 'work': 94, 'which': 95, 'ear': 96, 'about': 97, '2': 98, 'better': 99, 'can': 100, 'price': 101, 'never': 102, 'any': 103, 'could': 104, 'bad': 105, 'because': 106, 'do': 107, 'made': 108, 'got': 109, 'case': 110, 'pretty': 111, 'much': 112, 'by': 113, 'now': 114, 'disappointed': 115, 'worst': 116, 'friendly': 117, 'does': 118, 'them': 119, 'some': 120, 'then': 121, 'think': 122, 'am': 123, 'came': 124, 'minutes': 125, 'money': 126, 'new': 127, 'enough': 128, 'still': 129, 'these': 130, 'other': 131, 'amazing': 132, 'restaurant': 133, 'going': 134, 'how': 135, 'definitely': 136, 'say': 137, 'happy': 138, 'off': 139, 'experience': 140, 'delicious': 141, 'way': 142, 'two': 143, 'few': 144, 'while': 145, 'over': 146, 'being': 147, 'vegas': 148, 'us': 149, 'right': 150, 'poor': 151, 'thing': 152, 'everything': 153, \"won't\": 154, 'he': 155, 'far': 156, 'went': 157, \"didn't\": 158, 'car': 159, 'make': 160, '1': 161, 'item': 162, 'worked': 163, 'terrible': 164, 'always': 165, 'charger': 166, 'waste': 167, 'comfortable': 168, 'people': 169, 'want': 170, 'buy': 171, 'used': 172, 'staff': 173, 'eat': 174, 'long': 175, 'bought': 176, 'little': 177, 'bluetooth': 178, 'down': 179, 'easy': 180, 'its': 181, 'impressed': 182, '5': 183, 'reception': 184, 'piece': 185, 'awesome': 186, 'ordered': 187, 'stars': 188, 'times': 189, \"doesn't\": 190, 'fine': 191, 'lot': 192, 'know': 193, \"wasn't\": 194, 'chicken': 195, 'charge': 196, 'life': 197, 'since': 198, 'found': 199, 'tried': 200, 'both': 201, 'fantastic': 202, 'same': 203, 'every': 204, 'before': 205, 'customer': 206, 'quite': 207, 'take': 208, 'another': 209, 'menu': 210, 'pizza': 211, 'last': 212, 'problem': 213, 'purchase': 214, 'cell': 215, 'around': 216, 'small': 217, 'slow': 218, 'horrible': 219, 'worth': 220, 'many': 221, 'feel': 222, \"can't\": 223, 'fresh': 224, 'salad': 225, 'wait': 226, 'steak': 227, 'highly': 228, 'she': 229, 'talk': 230, 'sure': 231, '3': 232, 'camera': 233, 'calls': 234, 'device': 235, 'order': 236, \"couldn't\": 237, 'night': 238, 'overall': 239, 'probably': 240, 'day': 241, 'come': 242, 'next': 243, 'taste': 244, 'server': 245, 'sushi': 246, 'flavor': 247, 'problems': 248, 'volume': 249, 'into': 250, 'absolutely': 251, 'hear': 252, 'years': 253, 'clear': 254, 'real': 255, 'cool': 256, 'working': 257, 'using': 258, 'motorola': 259, 'fit': 260, 'look': 261, 'try': 262, 'give': 263, 'bland': 264, 'nothing': 265, 'said': 266, 'coming': 267, 'burger': 268, 'plug': 269, 'must': 270, 'design': 271, 'who': 272, 'makes': 273, 'loved': 274, 'looks': 275, 'call': 276, 'fits': 277, 'getting': 278, 'cheap': 279, 'side': 280, 'where': 281, 'family': 282, 'low': 283, 'however': 284, 'deal': 285, 'hard': 286, 'perfect': 287, 'tasty': 288, 'buffet': 289, 'meal': 290, 'atmosphere': 291, 'several': 292, 'without': 293, 'months': 294, 'left': 295, 'phones': 296, 'should': 297, 'seriously': 298, 'big': 299, 'super': 300, 'expect': 301, 'area': 302, 'screen': 303, 'once': 304, 'felt': 305, \"i'd\": 306, 'bit': 307, 'year': 308, 'return': 309, 'either': 310, 'old': 311, 'disappointing': 312, 'hot': 313, 'took': 314, 'soon': 315, 'selection': 316, 'prices': 317, 'sauce': 318, 'lunch': 319, 'breakfast': 320, 'waited': 321, 'days': 322, 'helpful': 323, 'need': 324, 'kept': 325, 'priced': 326, 'find': 327, 'wear': 328, 'received': 329, 'high': 330, 'light': 331, 'fast': 332, 'completely': 333, 'job': 334, 'kind': 335, 'perfectly': 336, 'stay': 337, '10': 338, 'company': 339, 'disappointment': 340, 'hands': 341, 'amazon': 342, 'looking': 343, \"i'll\": 344, 'away': 345, 'bar': 346, 'inside': 347, 'fries': 348, 'table': 349, 'sandwich': 350, 'meat': 351, 'dishes': 352, 'clean': 353, 'cold': 354, 'most': 355, 'three': 356, 'simple': 357, 'verizon': 358, 'dropped': 359, 'end': 360, 'buttons': 361, 'different': 362, 'gets': 363, 'home': 364, 'arrived': 365, 'quickly': 366, 'broke': 367, 'black': 368, 'may': 369, 'jabra': 370, 'pleased': 371, 'done': 372, 'avoid': 373, 'voice': 374, 'check': 375, 'extremely': 376, 'thought': 377, 'tell': 378, 'junk': 379, 'couple': 380, 'especially': 381, 'unit': 382, 'anyone': 383, 'unfortunately': 384, 'wrong': 385, 'none': 386, 'hour': 387, 'waitress': 388, 'beer': 389, 'dish': 390, 'eating': 391, 'dining': 392, 'spicy': 393, 'spot': 394, 'rude': 395, 'tasted': 396, 'value': 397, 'each': 398, 'started': 399, 'though': 400, 'everyone': 401, 'picture': 402, 'audio': 403, 'loud': 404, 'week': 405, 'feels': 406, 'headsets': 407, 'huge': 408, 'full': 409, 'software': 410, 'during': 411, 'hours': 412, 'internet': 413, 'less': 414, 'put': 415, 'useless': 416, 'color': 417, 'part': 418, 'expected': 419, 'authentic': 420, 'nokia': 421, 'anything': 422, 'sucks': 423, 'ago': 424, 'wanted': 425, 'waiting': 426, 'rather': 427, 'those': 428, 'things': 429, 'cannot': 430, 'enjoy': 431, 'barely': 432, 'quick': 433, 'pay': 434, 'awful': 435, 'mediocre': 436, 'management': 437, 'see': 438, 'overpriced': 439, 'warm': 440, 'waiter': 441, 'attentive': 442, 'cooked': 443, 'wonderful': 444, 'town': 445, 'ambiance': 446, 'chips': 447, 'special': 448, 'unless': 449, 'decent': 450, 'original': 451, 'yet': 452, 'bars': 453, 'ears': 454, 'hate': 455, 'least': 456, 'turn': 457, 'seems': 458, 'actually': 459, 'large': 460, 'reasonable': 461, 'headphones': 462, 'later': 463, 'beautiful': 464, 'within': 465, 'free': 466, 'pictures': 467, 'such': 468, 'wife': 469, 'ask': 470, 'signal': 471, 'set': 472, 'house': 473, 'glad': 474, 'incredible': 475, 'hit': 476, 'thin': 477, 'mistake': 478, 'cable': 479, 'care': 480, 'lacking': 481, 'having': 482, 'outside': 483, 'others': 484, 'crap': 485, 'plastic': 486, 'oh': 487, 'difficult': 488, '20': 489, 'under': 490, 'star': 491, 'zero': 492, 'samsung': 493, 'extra': 494, 'something': 495, '4': 496, 'easily': 497, 'places': 498, 'pho': 499, 'shrimp': 500, 'tender': 501, 'his': 502, 'potato': 503, 'served': 504, 'her': 505, 'twice': 506, 'dinner': 507, 'line': 508, 'fun': 509, 'razr': 510, 'blue': 511, 'charging': 512, 'mobile': 513, 'hold': 514, 'sturdy': 515, 'party': 516, 'front': 517, 'longer': 518, 'bargain': 519, 'music': 520, 'dont': 521, 'shipping': 522, 'between': 523, 'white': 524, 'although': 525, 'leather': 526, 'strong': 527, 'weeks': 528, 'almost': 529, 'literally': 530, \"wouldn't\": 531, 'charm': 532, 'obviously': 533, 'options': 534, 'needs': 535, 'lost': 536, 'simply': 537, 'reasonably': 538, 'range': 539, 'room': 540, 'important': 541, 'gave': 542, 'feature': 543, 'buying': 544, 'someone': 545, 'weak': 546, 'belt': 547, 'data': 548, 'sides': 549, 'average': 550, 'trying': 551, 'finally': 552, 'today': 553, 'satisfied': 554, 'keep': 555, 'clarity': 556, 'given': 557, 'review': 558, 'store': 559, 'replace': 560, 'above': 561, 'sucked': 562, 't': 563, 'friends': 564, 'please': 565, 'needed': 566, 'plus': 567, 'cases': 568, 'connection': 569, 'reviews': 570, 'told': 571, 'beat': 572, 'wall': 573, 'elsewhere': 574, 'break': 575, 'rare': 576, 'thumbs': 577, 'dirty': 578, 'ok': 579, 'fact': 580, 'wow': 581, 'tables': 582, 'portions': 583, 'sick': 584, 'dessert': 585, 'beef': 586, 'servers': 587, 'seafood': 588, 'pasta': 589, 'tasteless': 590, 'fish': 591, '30': 592, 'sweet': 593, 'thai': 594, 'eaten': 595, 'seated': 596, 'bacon': 597, 'sat': 598, 'ice': 599, 'bread': 600, 'fried': 601, 'enjoyed': 602, 'anytime': 603, 'bring': 604, 'mic': 605, 'sending': 606, 'owner': 607, 'clip': 608, 'below': 609, '7': 610, 'instructions': 611, 'provided': 612, 'included': 613, 'recommended': 614, 'performance': 615, 'thats': 616, 'keyboard': 617, 'instead': 618, 'support': 619, 'perhaps': 620, 'player': 621, 'let': 622, 'person': 623, 'station': 624, 'purchased': 625, 'holds': 626, 'decision': 627, 'comfortably': 628, 'basically': 629, 'stuff': 630, 'forever': 631, 'goes': 632, 'tool': 633, 'lasts': 634, 'bother': 635, 'able': 636, 'lightweight': 637, 'favorite': 638, 'market': 639, 'earpiece': 640, '8': 641, 'unreliable': 642, 'whole': 643, 'seller': 644, 'plantronics': 645, 'poorly': 646, 'charged': 647, 'strip': 648, 'lg': 649, 'immediately': 650, 'cant': 651, 'easier': 652, 'face': 653, 'happier': 654, 'comes': 655, 'dead': 656, 'might': 657, 'expensive': 658, 'liked': 659, 'palm': 660, 'ended': 661, 'touch': 662, 'own': 663, 'total': 664, 'cingular': 665, \"isn't\": 666, 'ringtones': 667, 'joke': 668, 'stop': 669, 'walked': 670, 'course': 671, 'treo': 672, 'usb': 673, 'believe': 674, 'point': 675, 'red': 676, 'guess': 677, 'third': 678, 'chinese': 679, 'despite': 680, 'hand': 681, 'cut': 682, 'else': 683, 'until': 684, 'checked': 685, 'setting': 686, 'totally': 687, 'damn': 688, 'nom': 689, 'tacos': 690, 'running': 691, 'salmon': 692, 'visit': 693, 'establishment': 694, 'husband': 695, 'heart': 696, 'drinks': 697, 'yummy': 698, \"we'll\": 699, 'wine': 700, 'trip': 701, 'steaks': 702, 'leave': 703, 'pork': 704, 'burgers': 705, 'cream': 706, 'drink': 707, 'itself': 708, 'considering': 709, 'bay': 710, 'phoenix': 711, 'sad': 712, 'wings': 713, 'live': 714, 'drive': 715, 'business': 716, 'folks': 717, '0': 718, 'chef': 719, 'possible': 720, 'close': 721, 'tea': 722, 'why': 723, 'location': 724, 'vegetables': 725, 'soup': 726, 'owners': 727, '40': 728, 'manager': 729, 'asked': 730, 'dry': 731, 'jawbone': 732, 'conversations': 733, 'contacts': 734, 'needless': 735, 'wasted': 736, 'static': 737, 'website': 738, 'pair': 739, \"that's\": 740, 'pocket': 741, 'pc': 742, 'combination': 743, 'owned': 744, 'book': 745, 'worthless': 746, 'features': 747, 'mind': 748, 'returned': 749, 'protection': 750, 'world': 751, 'seconds': 752, '510': 753, 'complaints': 754, 'particular': 755, \"phone's\": 756, 'cover': 757, 'fairly': 758, 'trouble': 759, 'saying': 760, 'choice': 761, 'packaged': 762, '6': 763, 'loves': 764, 'construction': 765, 'boy': 766, 'ease': 767, 'play': 768, 'plan': 769, 'match': 770, 'pros': 771, 'rated': 772, 'impressive': 773, 'fall': 774, 'display': 775, 'rocks': 776, 'number': 777, 'setup': 778, 'earpieces': 779, 'bt': 780, 'earbud': 781, 'failed': 782, 'coverage': 783, 'experienced': 784, 'drops': 785, 'description': 786, 'hoping': 787, 'seemed': 788, 'sharp': 789, 'wasting': 790, 'chargers': 791, 'offers': 792, 'handsfree': 793, 'network': 794, 'recently': 795, 'bucks': 796, 'replacement': 797, 'nearly': 798, 'form': 799, 'anyway': 800, 'means': 801, \"there's\": 802, 'certainly': 803, 'mess': 804, 'hair': 805, 'sony': 806, 'comfort': 807, 'cute': 808, 'whatsoever': 809, 'drain': 810, 'fry': 811, 'scratched': 812, 'microphone': 813, 'uncomfortable': 814, 'plugged': 815, 'gotten': 816, 'driving': 817, 'neither': 818, 'flip': 819, 'inexpensive': 820, 'sitting': 821, 'wireless': 822, 'reason': 823, 'exactly': 824, \"you'd\": 825, 'stupid': 826, 'breaks': 827, 'note': 828, 'alone': 829, 'q': 830, 'size': 831, 'turned': 832, 'reading': 833, 'wearing': 834, 'sunglasses': 835, 'computer': 836, 'returning': 837, 'understand': 838, 'pricing': 839, 'results': 840, 'im': 841, 'noise': 842, 'holster': 843, 'orders': 844, 'refund': 845, 'drop': 846, 'through': 847, 'speaker': 848, 'sprint': 849, 'stopped': 850, 'tinny': 851, 'placed': 852, 'spring': 853, 'happened': 854, 'pairing': 855, 'crisp': 856, 'ripped': 857, 'iphone': 858, 'multiple': 859, 'power': 860, 'outlet': 861, 'etc': 862, 'passed': 863, '100': 864, 'convenient': 865, 'date': 866, 'bottom': 867, '12': 868, 'boot': 869, 'double': 870, 'disgusting': 871, 'lots': 872, 'together': 873, 'send': 874, 'says': 875, 'top': 876, 'making': 877, 'fails': 878, 'beep': 879, 'word': 880, 'complain': 881, 'seen': 882, 'disappoint': 883, 'texture': 884, 'nasty': 885, 'recommendation': 886, 'potatoes': 887, 'sashimi': 888, 'yourself': 889, 'moist': 890, 'frozen': 891, 'greek': 892, 'dressing': 893, 'pita': 894, 'hummus': 895, 'duck': 896, 'flat': 897, 'amount': 898, 'water': 899, 'second': 900, 'salt': 901, 'chewy': 902, 'rice': 903, 'rolls': 904, 'mouth': 905, \"you're\": 906, 'tip': 907, 'cafe': 908, 'ambience': 909, 'honest': 910, 'busy': 911, 'delish': 912, 'melt': 913, 'cheese': 914, 'subway': 915, 'restaurants': 916, 'empty': 917, 'ate': 918, 'watched': 919, 'stale': 920, 'treated': 921, 'vegetarian': 922, 'healthy': 923, 'interesting': 924, 'decor': 925, 'butter': 926, 'egg': 927, 'dog': 928, 'insulted': 929, 'hope': 930, 'brunch': 931, 'soggy': 932, 'lobster': 933, 'flavorful': 934, 'par': 935, 'generous': 936, 'patio': 937, 'outstanding': 938, \"friend's\": 939, 'pizzas': 940, 'pulled': 941, 'pleasant': 942, 'equally': 943, 'bathroom': 944, 'door': 945, 'deserves': 946, 'stomach': 947, 'green': 948, 'beans': 949, 'regular': 950, '35': 951, 'bill': 952, 'worse': 953, 'meals': 954, 'homemade': 955, 'gone': 956, 'desserts': 957, 'boyfriend': 958, 'maybe': 959, 'half': 960, 'list': 961, 'vibe': 962, 'him': 963, 'edible': 964, 'seating': 965, 'style': 966, 'salsa': 967, 'lacked': 968, 'lasting': 969, '45': 970, 'imagine': 971, 'extended': 972, 'notice': 973, 'tooth': 974, 'advise': 975, 'fire': 976, 'run': 977, 'pull': 978, 'unusable': 979, 'juice': 980, 'short': 981, 'regarding': 982, 'turns': 983, 'pda': 984, 'neat': 985, '15': 986, 'essentially': 987, 'forget': 988, 'tech': 989, 'clearly': 990, 'mp3': 991, 'songs': 992, 'lock': 993, 'died': 994, 'glasses': 995, 'sometimes': 996, 'series': 997, 'quiet': 998, 'docking': 999, 'd807': 1000, 'advertised': 1001, 'handy': 1002, 'cheaper': 1003, 'costs': 1004, 'buyer': 1005, 'beware': 1006, 'apparently': 1007, 'flaw': 1008, 'expectations': 1009, 'resolution': 1010, 'slim': 1011, 'sex': 1012, 'toast': 1013, 'sleek': 1014, 'keypad': 1015, 'unhappy': 1016, 'winner': 1017, 'careful': 1018, 'logitech': 1019, 'recognition': 1020, 'tremendous': 1021, 'takes': 1022, 'stated': 1023, 'blackberry': 1024, 'sounds': 1025, 'funny': 1026, 'technology': 1027, 'wired': 1028, 'previous': 1029, 's': 1030, 'w810i': 1031, 'superb': 1032, 'maintain': 1033, \"shouldn't\": 1034, 'graphics': 1035, 'button': 1036, 'thank': 1037, 'igo': 1038, 'tips': 1039, 'connected': 1040, \"wife's\": 1041, 'whether': 1042, 'likes': 1043, 'storage': 1044, 'buzzing': 1045, 'override': 1046, 'functionality': 1047, 'ring': 1048, 'dropping': 1049, 'hardly': 1050, \"you'll\": 1051, 'incredibly': 1052, 'strange': 1053, 'living': 1054, 'issues': 1055, 'embarrassing': 1056, 'mostly': 1057, 'consumer': 1058, 'background': 1059, 'usually': 1060, 'excited': 1061, 'additional': 1062, 'gels': 1063, 'purpose': 1064, 'secure': 1065, 'appears': 1066, 'rubber': 1067, 'smell': 1068, 'caused': 1069, 'flimsy': 1070, 'month': 1071, 'flawlessly': 1072, 'giving': 1073, 'rotating': 1074, 'adorable': 1075, 'thru': 1076, 'wise': 1077, 'compliments': 1078, 'dialing': 1079, 'games': 1080, 'ipod': 1081, 'recharge': 1082, 'appealing': 1083, 'save': 1084, 'along': 1085, 'starts': 1086, 'ringing': 1087, 'auto': 1088, 'push': 1089, 'skype': 1090, 'self': 1091, 'help': 1092, 'shipped': 1093, 'promptly': 1094, 'prompt': 1095, 'noticed': 1096, 'att': 1097, 'mention': 1098, 'weird': 1099, 'effect': 1100, 'model': 1101, 'warning': 1102, 'wish': 1103, 'dying': 1104, 'install': 1105, 'purchasing': 1106, 'moto': 1107, 'figure': 1108, 'key': 1109, 'memory': 1110, 'solid': 1111, 'changing': 1112, 'update': 1113, 'cumbersome': 1114, 'delivery': 1115, 'switch': 1116, 'worthwhile': 1117, 'batteries': 1118, 'user': 1119, 'ability': 1120, 'receiving': 1121, 'exchanged': 1122, 'cellphone': 1123, 'described': 1124, '11': 1125, 'nyc': 1126, 'defective': 1127, 'unacceptable': 1128, 'catching': 1129, 'amazed': 1130, 'timeframe': 1131, 'complaint': 1132, 'standard': 1133, 'thanks': 1134, 'accidentally': 1135, 'listening': 1136, 'kitchen': 1137, 'conversation': 1138, 'ample': 1139, 'eargels': 1140, 'seem': 1141, 'ones': 1142, 'properly': 1143, 'missed': 1144, 'numerous': 1145, 'hated': 1146, 'due': 1147, 'forced': 1148, 'constructed': 1149, 'menus': 1150, 'holding': 1151, 'broken': 1152, 'effort': 1153, 'idea': 1154, \"they're\": 1155, 'doing': 1156, 'killer': 1157, 'breaking': 1158, '50': 1159, 'operate': 1160, 'paired': 1161, 'pack': 1162, 'apart': 1163, 'brand': 1164, 'surprised': 1165, 'fabulous': 1166, 'performed': 1167, 'echo': 1168, 'wind': 1169, 'warranty': 1170, 'luck': 1171, 'falling': 1172, 'tiny': 1173, 'four': 1174, 'tries': 1175, 'download': 1176, 'rate': 1177, 'access': 1178, 'continue': 1179, 'somehow': 1180, 'flash': 1181, 'truly': 1182, 'tones': 1183, 'prime': 1184, 'biggest': 1185, 'video': 1186, 'entire': 1187, 'accept': 1188, 'shots': 1189, 'allows': 1190, 'quit': 1191, 'via': 1192, 'signs': 1193, 'sizes': 1194, 'provides': 1195, 'classy': 1196, 'metro': 1197, 'somewhat': 1198, 'cost': 1199, 'smoke': 1200, 'son': 1201, 'protector': 1202, 'sorry': 1203, 'refused': 1204, 'discount': 1205, 'five': 1206, 'sounded': 1207, 'talking': 1208, 'feet': 1209, 'everywhere': 1210, 'ordering': 1211, 'awkward': 1212, 'current': 1213, 'answer': 1214, 'read': 1215, \"haven't\": 1216, 'letting': 1217, 'laptop': 1218, 'normal': 1219, 'lose': 1220, 'exceptional': 1221, 'show': 1222, 'managed': 1223, 'seat': 1224, 'lightly': 1225, 'rating': 1226, 'christmas': 1227, 'rest': 1228, 'otherwise': 1229, 'joy': 1230, 'covered': 1231, 'crust': 1232, 'late': 1233, 'cashier': 1234, 'mmmm': 1235, 'human': 1236, 'mexican': 1237, 'overwhelmed': 1238, 'bite': 1239, 'familiar': 1240, 'favor': 1241, 'delight': 1242, 'judge': 1243, 'grossed': 1244, 'behind': 1245, 'char': 1246, 'realized': 1247, 'attitudes': 1248, 'towards': 1249, 'customers': 1250, 'portion': 1251, 'attack': 1252, 'grill': 1253, 'downtown': 1254, 'excuse': 1255, 'scallop': 1256, 'refill': 1257, 'appetizers': 1258, 'heard': 1259, 'batter': 1260, 'finish': 1261, 'beyond': 1262, 'meh': 1263, 'min': 1264, 'known': 1265, 'suck': 1266, 'seasoned': 1267, 'opportunity': 1268, 'underwhelming': 1269, 'grease': 1270, 'roast': 1271, 'sugary': 1272, 'six': 1273, 'die': 1274, 'bye': 1275, 'lady': 1276, 'serves': 1277, 'roasted': 1278, 'garlic': 1279, 'marrow': 1280, 'added': 1281, 'bartender': 1282, 'playing': 1283, 'lovers': 1284, 'gross': 1285, 'preparing': 1286, 'indian': 1287, 'belly': 1288, 'crispy': 1289, 'wrap': 1290, 'tuna': 1291, 'bagels': 1292, 'selections': 1293, 'dine': 1294, 'rarely': 1295, 'curry': 1296, 'bathrooms': 1297, 'decorated': 1298, 'pace': 1299, 'greeted': 1300, 'joint': 1301, 'bakery': 1302, 'ladies': 1303, 'hip': 1304, 'overcooked': 1305, 'charcoal': 1306, 'decided': 1307, 'looked': 1308, 'dirt': 1309, 'watch': 1310, 'gyros': 1311, 'feeling': 1312, 'valley': 1313, 'bowl': 1314, 'disrespected': 1315, 'stepped': 1316, 'gold': 1317, 'puree': 1318, 'bug': 1319, \"we're\": 1320, 'friend': 1321, 'shower': 1322, 'bisque': 1323, 'filet': 1324, 'pepper': 1325, 'cook': 1326, 'dealing': 1327, 'cheeseburger': 1328, 'single': 1329, 'yum': 1330, 'mayo': 1331, 'honestly': 1332, 'stayed': 1333, 'building': 1334, 'dark': 1335, 'sub': 1336, 'creamy': 1337, 'similar': 1338, 'sticks': 1339, 'tap': 1340, 'coffee': 1341, 'boba': 1342, 'taco': 1343, 'bachi': 1344, 'salads': 1345, 'neighborhood': 1346, 'soooo': 1347, 'stir': 1348, 'summer': 1349, 'delightful': 1350, 'toasted': 1351, 'fare': 1352, 'doubt': 1353, 'serve': 1354, 'mom': 1355, 'bites': 1356, 'omg': 1357, 'brick': 1358, 'oven': 1359, 'ten': 1360, 'pancakes': 1361, 'eggs': 1362, 'treat': 1363, 'evening': 1364, 'lukewarm': 1365, 'eggplant': 1366, 'stuffed': 1367, 'mall': 1368, 'kids': 1369, 'perfection': 1370, 'impeccable': 1371, 'pop': 1372, 'assure': 1373, 'become': 1374, 'professional': 1375, \"we've\": 1376, 'nicest': 1377, 'biscuits': 1378, 'cow': 1379, 'driest': 1380, 'tots': 1381, 'paid': 1382, 'acknowledged': 1383, 'margaritas': 1384, 'flower': 1385, 'group': 1386, 'crab': 1387, 'legs': 1388, 'sliced': 1389, 'bunch': 1390, 'filling': 1391, 'lovely': 1392, 'choose': 1393, 'entrees': 1394, 'recent': 1395, 'tapas': 1396, 'vinegrette': 1397, 'baby': 1398, 'helped': 1399, 'fan': 1400, 'presentation': 1401, 'satisfying': 1402, 'grilled': 1403, 'non': 1404, 'focused': 1405, 'guy': 1406, 'promise': 1407, 'italian': 1408, 'legit': 1409, 'staying': 1410, 'fail': 1411, 'plate': 1412, 'serving': 1413, 'brought': 1414, 'fly': 1415, 'paper': 1416, 'crowd': 1417, 'mid': 1418, 'definately': 1419, 'flavorless': 1420, 'nachos': 1421, 'crazy': 1422, 'tribute': 1423, 'fell': 1424, 'services': 1425, 'heat': 1426, \"aren't\": 1427, 'spend': 1428, 'undercooked': 1429, 'converter': 1430, 'tied': 1431, 'major': 1432, 'jiggle': 1433, 'dozen': 1434, 'hundred': 1435, 'seperated': 1436, 'mere': 1437, 'ft': 1438, 'excessive': 1439, 'garbled': 1440, 'odd': 1441, 'fooled': 1442, 'clicks': 1443, 'wonder': 1444, 'mechanism': 1445, \"motorola's\": 1446, 'followed': 1447, 'directions': 1448, 'kindle': 1449, 'commercials': 1450, 'misleading': 1451, 'mother': 1452, 'couldnt': 1453, 'earphone': 1454, 'breakage': 1455, 'unacceptible': 1456, 'ideal': 1457, 'whose': 1458, 'sensitive': 1459, 'moving': 1460, 'freeway': 1461, 'speed': 1462, 'contract': 1463, 'ac': 1464, 'highy': 1465, 'mins': 1466, '680': 1467, '2mp': 1468, 'pics': 1469, 'garbage': 1470, 'gonna': 1471, 'arguing': 1472, 'bulky': 1473, 'usable': 1474, 'useful': 1475, 'machine': 1476, 'gadget': 1477, 'e': 1478, 'stream': 1479, 'submerged': 1480, \"microsoft's\": 1481, 'faceplates': 1482, 'elegant': 1483, 'angle': 1484, 'drawback': 1485, 'pause': 1486, 'skip': 1487, 'activated': 1488, 'suddenly': 1489, 'ipods': 1490, 'situations': 1491, 'bmw': 1492, 'hearing': 1493, 'wrongly': 1494, 'everyday': 1495, 'intended': 1496, 'runs': 1497, 'loads': 1498, 'greater': 1499, 'buds': 1500, 'waaay': 1501, 'bluetooths': 1502, 'listener': 1503, 'integrated': 1504, 'seamlessly': 1505, 'flush': 1506, 'toilet': 1507, 'supposedly': 1508, '375': 1509, 'styles': 1510, 'correctly': 1511, '350': 1512, 'jabra350': 1513, 'megapixels': 1514, 'renders': 1515, 'images': 1516, 'relatively': 1517, 'purcashed': 1518, 'geeky': 1519, 'oozes': 1520, 'embedded': 1521, 'stylish': 1522, 'compromise': 1523, 'qwerty': 1524, 'basic': 1525, 'simpler': 1526, 'iam': 1527, 'disapoinment': 1528, 'realize': 1529, 'accompanied': 1530, 'brilliant': 1531, 'nicely': 1532, 'damage': 1533, 'definitly': 1534, 'majority': 1535, 'peachy': 1536, 'keen': 1537, 'upstairs': 1538, 'basement': 1539, 'minute': 1540, 'reccomendation': 1541, 'relative': 1542, 'items': 1543, 'sudden': 1544, 'linking': 1545, '8530': 1546, 'curve': 1547, 'sketchy': 1548, 'messages': 1549, 'web': 1550, 'browsing': 1551, 'significantly': 1552, 'faster': 1553, 'build': 1554, 'unlike': 1555, 'colors': 1556, 'whine': 1557, 'communications': 1558, 'communicate': 1559, 'monkeys': 1560, 'share': 1561, 'dna': 1562, 'copy': 1563, 'humans': 1564, 'bougth': 1565, 'l7c': 1566, 'mode': 1567, 'file': 1568, 'browser': 1569, 'hs850': 1570, 'latest': 1571, 'os': 1572, 'v1': 1573, '15g': 1574, 'crawl': 1575, 'recognizes': 1576, 'bluetoooth': 1577, 'thorn': 1578, 'abhor': 1579, 'disconnected': 1580, '13': 1581, 'mail': 1582, 'backlight': 1583, 'message': 1584, 'tone': 1585, 'lately': 1586, 'wit': 1587, 'weight': 1588, 'pleather': 1589, 'deaf': 1590, 'prettier': 1591, 'investment': 1592, 'ticking': 1593, 'noises': 1594, 'ends': 1595, 'electronics': 1596, 'available': 1597, 'fm': 1598, 'transmitters': 1599, 'h500': 1600, 'mega': 1601, 'pixel': 1602, 'good7': 1603, 'transmit': 1604, 'contacting': 1605, 'dollar': 1606, 'learned': 1607, 'lesson': 1608, 'online': 1609, 'earbugs': 1610, 'roam': 1611, 'crack': 1612, 'infatuated': 1613, 'freezes': 1614, 'frequently4': 1615, 'child': 1616, 'tick': 1617, 'headbands': 1618, 'ericsson': 1619, 'purchases': 1620, 'shine': 1621, 'calendar': 1622, 'sync': 1623, 'defeats': 1624, 'penny': 1625, 'wallet': 1626, 'type': 1627, 'excrutiatingly': 1628, 'aspect': 1629, 'glove': 1630, 'durable': 1631, 'o': 1632, 'gosh': 1633, 'attractive': 1634, 'factor': 1635, 'petroleum': 1636, 'unbearable': 1637, 'scary': 1638, 'stereo': 1639, 'absolutel': 1640, 'potentially': 1641, 'reversible': 1642, 'contstruct': 1643, 'hinge': 1644, 'installed': 1645, 'overnite': 1646, 'handset': 1647, 'cat': 1648, 'attacked': 1649, 'protective': 1650, 'destroying': 1651, 'razor': 1652, 'v3i': 1653, 'shouldve': 1654, 'invented': 1655, 'sooner': 1656, 'engineered': 1657, 'clever': 1658, 'complained': 1659, \"headset's\": 1660, '2160': 1661, 'tracfone': 1662, 'instruction': 1663, 'manual': 1664, 'alarm': 1665, 'clock': 1666, 'removing': 1667, 'antena': 1668, 'compared': 1669, 'state': 1670, 'allow': 1671, 'usage': 1672, 'ngage': 1673, 'earbuds': 1674, 'riingtones': 1675, 'rip': 1676, 'frequentyly': 1677, 'adhesive': 1678, 'practically': 1679, 'add': 1680, 'boost': 1681, 'concrete': 1682, 'knock': 1683, 'wood': 1684, 'transformed': 1685, 'organizational': 1686, 'capability': 1687, 'vehicle': 1688, 'cradle': 1689, 'jerks': 1690, 'los': 1691, 'angeles': 1692, 'starter': 1693, 'loudspeaker': 1694, 'option': 1695, 'bumpers': 1696, 'lights': 1697, 'improve': 1698, 'leaks': 1699, 'according': 1700, 'called': 1701, 'applifies': 1702, 'specially': 1703, 'transmission': 1704, 's11': 1705, 'finished': 1706, 'drivng': 1707, 'reverse': 1708, 'tape': 1709, 'embarassing': 1710, 'hurt': 1711, 'protects': 1712, 'operates': 1713, 'soyo': 1714, 'portraits': 1715, 'exterior': 1716, 'mentioned': 1717, 'gadgets': 1718, 'magical': 1719, 'comparably': 1720, 'offering': 1721, 'encourage': 1722, 'effective': 1723, 'recieve': 1724, 'cradles': 1725, 'kits': 1726, 'excelent': 1727, 'cingulair': 1728, 'nicer': 1729, 'era': 1730, 'colored': 1731, 'hoursthe': 1732, 'thereplacement': 1733, '2000': 1734, 'cheaply': 1735, 'distorted': 1736, 'yell': 1737, 'forgot': 1738, 'iriver': 1739, 'spinn': 1740, 'fond': 1741, 'magnetic': 1742, 'strap': 1743, 'psyched': 1744, 'appointments': 1745, 'appearance': 1746, 'sanyo': 1747, 'survived': 1748, 'dozens': 1749, 'blacktop': 1750, 'ill': 1751, 'earphones': 1752, 'finds': 1753, 'enter': 1754, 'modest': 1755, 'cellular': 1756, 'awsome': 1757, 'drained': 1758, 'earpad': 1759, 'displeased': 1760, 'defect': 1761, 'risk': 1762, 'built': 1763, 'restored': 1764, 'jx': 1765, 'searched': 1766, 'pad': 1767, 'lit': 1768, 'portable': 1769, 'colleague': 1770, 'fully': 1771, 'bed': 1772, 'wi': 1773, 'fi': 1774, 'morning': 1775, 'card': 1776, 'hat': 1777, 'timely': 1778, 'shipment': 1779, 'surefire': 1780, 'gx2': 1781, 'bt50': 1782, 'buyers': 1783, 'remorse': 1784, 'accessoryone': 1785, 'inexcusable': 1786, 'carriers': 1787, 'tmobile': 1788, 'procedure': 1789, 'motorolas': 1790, 'vx9900': 1791, 'env': 1792, 'rocketed': 1793, 'destination': 1794, 'unknown': 1795, 'conditions': 1796, 'usefulness': 1797, \"verizon's\": 1798, 'bills': 1799, 'plans': 1800, 'overnight': 1801, 'regret': 1802, 'pitiful': 1803, 'respect': 1804, 'stuck': 1805, 'max': 1806, 'mute': 1807, 'hybrid': 1808, 'palmtop': 1809, 'excels': 1810, 'roles': 1811, 'bt250v': 1812, 'bose': 1813, 'cancelling': 1814, 'commuter': 1815, 'photo': 1816, 'ad': 1817, 'earlier': 1818, 'noted': 1819, 'happens': 1820, 'frog': 1821, 'eye': 1822, 'pushed': 1823, 'function': 1824, 'aluminum': 1825, 'vx': 1826, 'protected': 1827, 'handheld': 1828, 'tools': 1829, 'sturdiness': 1830, 'source': 1831, 'waterproof': 1832, 'sliding': 1833, 'edge': 1834, 'pants': 1835, 'pockets': 1836, 'ugly': 1837, 'shield': 1838, 'incrediable': 1839, 'improvement': 1840, 'refuse': 1841, 'activate': 1842, 'gentle': 1843, 'threw': 1844, 'window': 1845, 'inches': 1846, 'counter': 1847, 'cracked': 1848, 'laughing': 1849, 'trunk': 1850, 'carried': 1851, 'hitch': 1852, 'practical': 1853, 'channel': 1854, 'directly': 1855, 'increase': 1856, 'shifting': 1857, 'bubbling': 1858, 'peeling': 1859, 'scratch': 1860, 'droid': 1861, 'exercise': 1862, 'frustration': 1863, 'earset': 1864, 'outgoing': 1865, 'package': 1866, 'understanding': 1867, 'patient': 1868, 'wirefly': 1869, 'contact': 1870, 'inform': 1871, 'practice': 1872, 'aggravating': 1873, 'virgin': 1874, 'muddy': 1875, 'casing': 1876, \"wire's\": 1877, 'insert': 1878, 'glued': 1879, 'slid': 1880, 'plantronincs': 1881, 'continues': 1882, 'flawed': 1883, 'disapointing': 1884, 'fourth': 1885, 'fixes': 1886, 'accessing': 1887, 'downloading': 1888, 'performing': 1889, 'functions': 1890, 'constantly': 1891, 'happening': 1892, 'adapters': 1893, 'procedures': 1894, 're': 1895, 'wiping': 1896, 'strength': 1897, 'plays': 1898, 'louder': 1899, 'navigate': 1900, 'recessed': 1901, 'avoiding': 1902, 'smoking': 1903, 'linked': 1904, 'possesed': 1905, 'trash': 1906, 'research': 1907, 'development': 1908, 'division': 1909, 'knows': 1910, 'infuriating': 1911, 'walkman': 1912, 'charges': 1913, 'europe': 1914, 'asia': 1915, 'clipping': 1916, 'deffinitely': 1917, \"cent's\": 1918, 'behing': 1919, '5020': 1920, 'comfortible': 1921, '24': 1922, 'pain': 1923, 'arrival': 1924, 'fraction': 1925, 'crappy': 1926, 'e715': 1927, 'seeen': 1928, 'interface': 1929, 'decade': 1930, 'compete': 1931, 'designs': 1932, '700w': 1933, 'transceiver': 1934, 'steer': 1935, 'genuine': 1936, 'replacementr': 1937, 'pens': 1938, 'buyit': 1939, 'beats': 1940, 'fingers': 1941, 'steep': 1942, 'normally': 1943, 'haul': 1944, 'dissapointing': 1945, 'originally': 1946, 'discarded': 1947, 'players': 1948, 'posted': 1949, 'detailed': 1950, 'comments': 1951, 'grey': 1952, 'existing': 1953, 'cds': 1954, 'currently': 1955, 'shooters': 1956, 'delay': 1957, 'messes': 1958, 'bitpim': 1959, 'program': 1960, 'transfer': 1961, 'accessory': 1962, 'manufacturer': 1963, 'muffled': 1964, 'incoming': 1965, 'severe': 1966, 'resistant': 1967, 'overly': 1968, 'contacted': 1969, 'produce': 1970, 'receipt': 1971, 'linksys': 1972, 'exchange': 1973, 'refurb': 1974, 'snug': 1975, 'heavy': 1976, 'keeps': 1977, 'utter': 1978, 'promised': 1979, 'loop': 1980, 'latch': 1981, 'visor': 1982, 'address': 1983, 'reboots': 1984, 'tungsten': 1985, 'e2': 1986, 'flipphones': 1987, 'designed': 1988, 'smoothly': 1989, 'study': 1990, 'interested': 1991, 'sins': 1992, 'industrial': 1993, 'tracking': 1994, 'detachable': 1995, 'periodically': 1996, 'upload': 1997, 'locks': 1998, 'screens': 1999, 'randomly': 2000, 'locked': 2001, '325': 2002, 'worn': 2003, 'ringer': 2004, 'choices': 2005, 'acceptable': 2006, 'balance': 2007, 'ready': 2008, 'upbeat': 2009, 'forgeries': 2010, 'abound': 2011, 'explain': 2012, 'jack': 2013, 'ca': 2014, '42': 2015, 'smallest': 2016, 'stays': 2017, 'drains': 2018, 'superfast': 2019, 'ergonomic': 2020, 'theory': 2021, 'stand': 2022, 'clips': 2023, 'occupied': 2024, 'distracting': 2025, 'except': 2026, 'cbr': 2027, 'mp3s': 2028, 'preferably': 2029, 'windows': 2030, 'media': 2031, 'sos': 2032, 'signals': 2033, 'connect': 2034, 'mini': 2035, 'near': 2036, 'open': 2037, 'allowing': 2038, 'startac': 2039, 'regretted': 2040, 'outperform': 2041, 'china': 2042, 'v325i': 2043, 'numbers': 2044, 'sim': 2045, '3o': 2046, 'r': 2047, 'crashed': 2048, 'replaced': 2049, '18': 2050, '4s': 2051, 'connecting': 2052, 'sources': 2053, 'imac': 2054, 'external': 2055, 'bells': 2056, 'whistles': 2057, 'slide': 2058, 'grip': 2059, 'prevents': 2060, 'slipping': 2061, 'span': 2062, 'exclaim': 2063, 'whoa': 2064, 'tv': 2065, 'corded': 2066, 'freedom': 2067, 'mark': 2068, 'shows': 2069, 'functional': 2070, 'soft': 2071, 'tight': 2072, 'shape': 2073, 'copier': 2074, 'sent': 2075, 'anywhere': 2076, 'sold': 2077, 'units': 2078, 'krussel': 2079, 'tracfonewebsite': 2080, 'toactivate': 2081, 'texas': 2082, 'dit': 2083, '5320': 2084, 'mainly': 2085, 'whatever': 2086, 'blueant': 2087, 'supertooth': 2088, 'pcs': 2089, 'sch': 2090, 'r450': 2091, 'slider': 2092, 'premium': 2093, 'plugs': 2094, 'plenty': 2095, 'capacity': 2096, 'confortable': 2097, 'periods': 2098, 'ant': 2099, 'hey': 2100, 'pleasantly': 2101, 'suprised': 2102, 'dustpan': 2103, 'indoors': 2104, 'disposable': 2105, 'puff': 2106, 'ride': 2107, 'smoother': 2108, 'nano': 2109, 'dissapointed': 2110, 'reccommend': 2111, 'carries': 2112, 'highest': 2113, 'anti': 2114, 'glare': 2115, 'smartphone': 2116, 'wont': 2117, 'atleast': 2118, 'addition': 2119, 'amp': 2120, 'reoccure': 2121, 'somewhere': 2122, 'creaks': 2123, 'wooden': 2124, 'floor': 2125, 'apartment': 2126, 'generally': 2127, 'inconspicuous': 2128, 'slowly': 2129, 'impossible': 2130, 'upgrade': 2131, 'securly': 2132, 'possibility': 2133, 'booking': 2134, 'entertainment': 2135, 'communication': 2136, 'activesync': 2137, 'optimal': 2138, 'synchronization': 2139, 'coupon': 2140, 'instance': 2141, 'ps3': 2142, 'cheapy': 2143, 'shouting': 2144, 'telephone': 2145, 'yes': 2146, 'shiny': 2147, 'grtting': 2148, '44': 2149, 'v3c': 2150, 'exceeds': 2151, 'sight': 2152, 'improper': 2153, 'effects': 2154, 'palms': 2155, 'hoped': 2156, 'father': 2157, 'v265': 2158, 'pads': 2159, 'stops': 2160, 'intermittently': 2161, 'reaching': 2162, 'row': 2163, 'keys': 2164, 'nightmare': 2165, 'describe': 2166, 'speakerphone': 2167, 'cassette': 2168, 'cellphones': 2169, 'planning': 2170, \"other's\": 2171, 'products': 2172, 'sensor': 2173, 'reliability': 2174, 'beeping': 2175, 'dieing': 2176, 'ir': 2177, 'cancellation': 2178, 'counterfeit': 2179, 'travled': 2180, 'swivel': 2181, 'sister': 2182, 'dual': 2183, '8125': 2184, 'keeping': 2185, 'bottowm': 2186, 'gimmick': 2187, 'opens': 2188, 'causing': 2189, 'discomfort': 2190, 'trust': 2191, 'maintains': 2192, 'flawless': 2193, 'devices': 2194, 'utterly': 2195, 'confusing': 2196, 'holder': 2197, 'cutouts': 2198, 'land': 2199, 'loops': 2200, 'material': 2201, 'flaws': 2202, 'owning': 2203, 'official': 2204, 'oem': 2205, 'loudest': 2206, 'competitors': 2207, 'saved': 2208, 'alot': 2209, 'cuts': 2210, 'unintelligible': 2211, 'restart': 2212, 'bend': 2213, 'leaf': 2214, 'metal': 2215, 'stress': 2216, 'leopard': 2217, 'print': 2218, 'wonderfully': 2219, 'wild': 2220, 'saggy': 2221, 'floppy': 2222, 'looses': 2223, 'snap': 2224, '8525': 2225, 'carry': 2226, 'fliptop': 2227, 'loose': 2228, 'wobbly': 2229, 'eventually': 2230, 'receive': 2231, 'fulfills': 2232, 'requirements': 2233, 'rests': 2234, 'against': 2235, 'websites': 2236, 'cables': 2237, 'lap': 2238, 'controls': 2239, 'accessable': 2240, 'mine': 2241, 'satisifed': 2242, '2005': 2243, 's710a': 2244, 'specs': 2245, 'armband': 2246, 'allot': 2247, 'clearer': 2248, 'keypads': 2249, 'reach': 2250, 'ericson': 2251, 'z500a': 2252, 'motor': 2253, 'control': 2254, 'center': 2255, 'voltage': 2256, 'humming': 2257, 'equipment': 2258, 'certain': 2259, 'girl': 2260, 'wake': 2261, 'styling': 2262, 'restocking': 2263, 'fee': 2264, 'darn': 2265, 'lousy': 2266, 'sweetest': 2267, 'securely': 2268, 'hook': 2269, 'directed': 2270, 'canal': 2271, 'unsatisfactory': 2272, 'videos': 2273, 'negatively': 2274, 'adapter': 2275, 'provide': 2276, 'hype': 2277, 'assumed': 2278, 'lense': 2279, 'falls': 2280, 'text': 2281, 'messaging': 2282, 'tricky': 2283, 'painful': 2284, 'lasted': 2285, 'blew': 2286, 'flops': 2287, 'smudged': 2288, 'touches': 2289, 'infra': 2290, 'port': 2291, 'irda': 2292, 'bank': 2293, 'holiday': 2294, 'rick': 2295, 'steve': 2296, 'angry': 2297, 'honeslty': 2298, 'ahead': 2299, 'warmer': 2300, 'wayyy': 2301, 'cape': 2302, 'cod': 2303, 'ravoli': 2304, 'chickenwith': 2305, 'cranberry': 2306, 'disgusted': 2307, 'shocked': 2308, 'indicate': 2309, 'cash': 2310, 'burrittos': 2311, 'blah': 2312, 'interior': 2313, 'velvet': 2314, 'cake': 2315, 'ohhh': 2316, 'hole': 2317, 'street': 2318, 'luke': 2319, 'sever': 2320, 'combos': 2321, '23': 2322, 'final': 2323, 'blow': 2324, 'accident': 2325, 'grab': 2326, 'pub': 2327, 'redeeming': 2328, 'hiro': 2329, 'drag': 2330, 'melted': 2331, 'styrofoam': 2332, 'fear': 2333, 'positive': 2334, 'pucks': 2335, 'disgust': 2336, 'register': 2337, 'rib': 2338, 'section': 2339, 'generic': 2340, 'firehouse': 2341, 'refreshing': 2342, 'pink': 2343, 'chow': 2344, 'mein': 2345, 'imaginative': 2346, 'lined': 2347, 'strings': 2348, 'banana': 2349, 'petrified': 2350, 'struggle': 2351, 'wave': 2352, 'receives': 2353, 'cocktails': 2354, 'handmade': 2355, \"we'd\": 2356, 'military': 2357, 'dos': 2358, 'gringos': 2359, 'tastings': 2360, 'jeff': 2361, 'milkshake': 2362, 'chocolate': 2363, 'milk': 2364, 'excalibur': 2365, 'common': 2366, 'sense': 2367, 'appalling': 2368, 'cheated': 2369, 'experiencing': 2370, 'relationship': 2371, 'parties': 2372, 'smelled': 2373, 'trap': 2374, 'turkey': 2375, 'pan': 2376, 'cakes': 2377, 'raving': 2378, 'disaster': 2379, 'tailored': 2380, 'palate': 2381, 'ratio': 2382, 'tenders': 2383, 'unsatisfying': 2384, 'omelets': 2385, 'summary': 2386, 'largely': 2387, 'sexy': 2388, 'outrageously': 2389, 'flirting': 2390, 'hottest': 2391, 'rock': 2392, 'casino': 2393, 'step': 2394, 'forward': 2395, 'bone': 2396, 'bloddy': 2397, \"mary's\": 2398, 'mussels': 2399, 'reduction': 2400, 'buffets': 2401, 'tigerlilly': 2402, 'afternoon': 2403, 'personable': 2404, 'sooooo': 2405, \"let's\": 2406, 'yama': 2407, '40min': 2408, 'arriving': 2409, 'actual': 2410, 'blandest': 2411, 'cuisine': 2412, 'worries': 2413, 'guys': 2414, 'loving': 2415, \"he's\": 2416, 'venture': 2417, 'further': 2418, 'host': 2419, 'lack': 2420, 'bitches': 2421, 'liking': 2422, 'reasons': 2423, 'reviewing': 2424, 'phenomenal': 2425, 'venturing': 2426, 'penne': 2427, 'vodka': 2428, 'including': 2429, 'massive': 2430, 'meatloaf': 2431, 'lox': 2432, 'capers': 2433, 'meet': 2434, 'weekend': 2435, 'suggestions': 2436, 'bamboo': 2437, 'shoots': 2438, 'blanket': 2439, 'moz': 2440, 'subpar': 2441, 'attention': 2442, 'ignore': 2443, 'fiancé': 2444, 'middle': 2445, 'mandalay': 2446, 'forty': 2447, 'vain': 2448, 'crostini': 2449, 'highlights': 2450, 'nigiri': 2451, 'flavored': 2452, 'voodoo': 2453, 'gluten': 2454, 'leftover': 2455, 'relocated': 2456, 'diverse': 2457, 'hella': 2458, 'salty': 2459, 'spinach': 2460, 'avocado': 2461, 'ingredients': 2462, 'handed': 2463, 'listed': 2464, 'waitresses': 2465, 'lordy': 2466, 'khao': 2467, 'soi': 2468, 'terrific': 2469, 'thrilled': 2470, 'accommodations': 2471, 'daughter': 2472, 'caught': 2473, 'judging': 2474, 'inspired': 2475, 'leaves': 2476, 'desired': 2477, 'modern': 2478, 'maintaining': 2479, 'coziness': 2480, 'weekly': 2481, 'haunt': 2482, 'asking': 2483, 'verge': 2484, 'dressed': 2485, 'rudely': 2486, 'hits': 2487, 'quantity': 2488, 'lemon': 2489, 'raspberry': 2490, 'cocktail': 2491, 'imagined': 2492, 'crepe': 2493, 'bits': 2494, 'missing': 2495, \"joey's\": 2496, 'voted': 2497, 'readers': 2498, 'magazine': 2499, 'fridays': 2500, 'blows': 2501, 'exceeding': 2502, 'dreamed': 2503, 'serivce': 2504, 'inviting': 2505, 'lived': 2506, '1979': 2507, 'foot': 2508, 'mixed': 2509, 'mushrooms': 2510, 'yukon': 2511, 'corn': 2512, 'beateous': 2513, 'showed': 2514, 'climbing': 2515, 'tartar': 2516, 'jamaican': 2517, 'mojitos': 2518, 'rinse': 2519, 'nude': 2520, 'bussell': 2521, 'sprouts': 2522, 'risotto': 2523, 'hopefully': 2524, 'bodes': 2525, 'wrapped': 2526, 'dates': 2527, 'unbelievable': 2528, 'otto': 2529, 'welcome': 2530, 'mains': 2531, 'uninspired': 2532, 'whenever': 2533, \"world's\": 2534, 'annoying': 2535, 'drunk': 2536, 'patty': 2537, 'uploaded': 2538, 'yeah': 2539, 'sporting': 2540, 'events': 2541, 'walls': 2542, \"tv's\": 2543, \"they'd\": 2544, 'descriptions': 2545, 'eel': 2546, 'sauces': 2547, 'hardest': 2548, \"m's\": 2549, 'supposed': 2550, 'rolled': 2551, 'eyes': 2552, 'providing': 2553, 'flavourful': 2554, 'freezing': 2555, 'reviewer': 2556, 'delights': 2557, 'ayce': 2558, 'lighting': 2559, 'mood': 2560, 'based': 2561, 'gratitude': 2562, \"owner's\": 2563, 'privileged': 2564, 'parents': 2565, 'silently': 2566, 'peanut': 2567, \"would've\": 2568, 'godfathers': 2569, 'tough': 2570, 'recall': 2571, 'exquisite': 2572, 'thus': 2573, 'visited': 2574, 'proclaimed': 2575, 'wildly': 2576, 'veggitarian': 2577, 'platter': 2578, 'madison': 2579, 'ironman': 2580, 'chefs': 2581, 'dedicated': 2582, 'spots': 2583, 'jenni': 2584, 'goat': 2585, 'skimp': 2586, 'mac': 2587, 'stinks': 2588, 'burned': 2589, 'saganaki': 2590, 'disagree': 2591, 'fellow': 2592, 'yelpers': 2593, 'prepared': 2594, 'writing': 2595, 'noodles': 2596, 'chip': 2597, 'count': 2598, 'box': 2599, 'boring': 2600, 'greedy': 2601, 'corporation': 2602, 'dime': 2603, 'atrocious': 2604, 'charming': 2605, 'outdoor': 2606, 'english': 2607, 'muffin': 2608, 'untoasted': 2609, 'bus': 2610, 'figured': 2611, 'publicly': 2612, 'loudly': 2613, 'bbq': 2614, 'lighter': 2615, 'public': 2616, 'ways': 2617, 'downside': 2618, 'shawarrrrrrma': 2619, 'eyed': 2620, 'peas': 2621, 'unreal': 2622, 'vinaigrette': 2623, '00': 2624, 'honor': 2625, 'hut': 2626, 'coupons': 2627, 'unbelievably': 2628, 'covers': 2629, 'replenished': 2630, 'plain': 2631, 'yucky': 2632, '17': 2633, 'delicioso': 2634, 'spaghetti': 2635, 'tucson': 2636, 'chipotle': 2637, 'succulent': 2638, 'baseball': 2639, 'app': 2640, 'genuinely': 2641, 'enthusiastic': 2642, 'sadly': 2643, 'gordon': 2644, \"ramsey's\": 2645, 'shall': 2646, 'sharply': 2647, 'offered': 2648, 'handling': 2649, 'rowdy': 2650, 'despicable': 2651, 'craving': 2652, 'ache': 2653, 'ball': 2654, 'space': 2655, 'elegantly': 2656, 'customize': 2657, 'usual': 2658, 'bean': 2659, 'outta': 2660, 'inconsiderate': 2661, 'hi': 2662, 'dinners': 2663, 'outshining': 2664, 'halibut': 2665, 'starving': 2666, '90': 2667, 'disgrace': 2668, 'def': 2669, 'ethic': 2670, 'andddd': 2671, 'past': 2672, 'located': 2673, 'crystals': 2674, 'shopping': 2675, 'aria': 2676, 'summarize': 2677, 'nay': 2678, 'transcendant': 2679, 'brings': 2680, 'pneumatic': 2681, 'condiment': 2682, 'dispenser': 2683, 'ians': 2684, 'kiddos': 2685, 'bouchon': 2686, 'accountant': 2687, 'screwed': 2688, 'reminds': 2689, 'shops': 2690, 'san': 2691, 'francisco': 2692, 'buldogis': 2693, 'gourmet': 2694, 'frustrated': 2695, 'petty': 2696, 'iced': 2697, 'hungry': 2698, 'teeth': 2699, 'sore': 2700, 'companions': 2701, 'ground': 2702, 'smeared': 2703, 'tracked': 2704, 'pile': 2705, 'bird': 2706, 'poop': 2707, 'furthermore': 2708, 'operation': 2709, 'expert': 2710, 'connisseur': 2711, 'topic': 2712, 'jerk': 2713, 'strike': 2714, 'wants': 2715, 'rushed': 2716, 'across': 2717, 'appetizer': 2718, 'absolutley': 2719, '5lb': 2720, '4ths': 2721, 'gristle': 2722, 'fat': 2723, 'steiners': 2724, 'dollars': 2725, 'fs': 2726, 'pears': 2727, 'almonds': 2728, 'spicier': 2729, 'prefer': 2730, 'ribeye': 2731, 'mesquite': 2732, 'gooodd': 2733, 'connoisseur': 2734, 'difference': 2735, 'contained': 2736, 'mouthful': 2737, 'enjoyable': 2738, 'relaxed': 2739, 'venue': 2740, 'couples': 2741, 'groups': 2742, 'nargile': 2743, 'tater': 2744, 'southwest': 2745, 'vanilla': 2746, 'smooth': 2747, 'profiterole': 2748, 'choux': 2749, 'pastry': 2750, 'az': 2751, \"carly's\": 2752, 'forgetting': 2753, 'ventilation': 2754, 'upgrading': 2755, 'letdown': 2756, 'camelback': 2757, 'shop': 2758, 'cartel': 2759, 'trimmed': 2760, '70': 2761, 'claimed': 2762, 'handled': 2763, 'beautifully': 2764, 'jewel': 2765, 'las': 2766, 'limited': 2767, 'boiled': 2768, 'toro': 2769, 'tartare': 2770, 'cavier': 2771, 'extraordinary': 2772, 'thinly': 2773, 'wagyu': 2774, 'truffle': 2775, 'attached': 2776, 'gas': 2777, 'sign': 2778, 'decide': 2779, 'humiliated': 2780, 'worker': 2781, 'name': 2782, 'callings': 2783, 'conclusion': 2784, 'daily': 2785, 'specials': 2786, 'tragedy': 2787, 'struck': 2788, 'pancake': 2789, 'crawfish': 2790, 'monster': 2791, \"mom's\": 2792, 'multi': 2793, 'grain': 2794, 'pumpkin': 2795, 'pecan': 2796, 'fluffy': 2797, 'airline': 2798, 'noca': 2799, 'gyro': 2800, 'lettuce': 2801, 'thoroughly': 2802, 'pastas': 2803, 'cheesecurds': 2804, 'typical': 2805, 'glance': 2806, 'finger': 2807, 'beauty': 2808, 'greasy': 2809, 'unhealthy': 2810, 'similarly': 2811, 'man': 2812, 'apology': 2813, 'tiramisu': 2814, 'cannoli': 2815, 'sun': 2816, 'meats': 2817, 'frenchman': 2818, 'martini': 2819, 'opinion': 2820, 'gc': 2821, 'sample': 2822, 'thirty': 2823, 'vacant': 2824, 'yellowtail': 2825, 'carpaccio': 2826, 'strangers': 2827, 'hello': 2828, 'donut': 2829, 'saving': 2830, 'disgraceful': 2831, 'suffers': 2832, 'greens': 2833, 'hearts': 2834, 'hankering': 2835, 'forth': 2836, 'consider': 2837, 'theft': 2838, 'eew': 2839, 'complete': 2840, 'overhaul': 2841, 'witnessed': 2842, 'guests': 2843, 'regularly': 2844, 'swung': 2845, 'deeply': 2846, 'efficient': 2847, 'sucker': 2848, 'olives': 2849, 'perpared': 2850, 'giant': 2851, 'slices': 2852, 'dusted': 2853, 'powdered': 2854, 'sugar': 2855, 'fo': 2856, 'accomodate': 2857, 'vegan': 2858, 'veggie': 2859, 'crumby': 2860, 'pale': 2861, 'croutons': 2862, \"it'll\": 2863, 'trips': 2864, 'crema': 2865, 'café': 2866, 'expanded': 2867, 'miss': 2868, 'philadelphia': 2869, 'north': 2870, 'scottsdale': 2871, 'soooooo': 2872, 'freaking': 2873, 'papers': 2874, 'reheated': 2875, 'wedges': 2876, 'absolute': 2877, 'tongue': 2878, 'cheek': 2879, 'bloody': 2880, 'mary': 2881, 'businesses': 2882, 'yellow': 2883, 'saffron': 2884, 'seasoning': 2885, 'grandmother': 2886, 'ignored': 2887, 'hostess': 2888, 'myself': 2889, 'boys': 2890, 'shirt': 2891, 'drastically': 2892, 'caesar': 2893, 'madhouse': 2894, 'proven': 2895, 'greatest': 2896, 'moods': 2897, 'macarons': 2898, 'insanely': 2899, 'informative': 2900, \"weren't\": 2901, 'deliver': 2902, 'plater': 2903, 'relax': 2904, 'sit': 2905, 'screams': 2906, \"somethat's\": 2907, 'duo': 2908, 'violinists': 2909, 'requested': 2910, 'personally': 2911, 'baklava': 2912, 'falafels': 2913, 'baba': 2914, 'ganoush': 2915, 'mgm': 2916, 'courteous': 2917, 'eclectic': 2918, 'onion': 2919, 'rings': 2920, 'nobu': 2921, 'google': 2922, 'smashburger': 2923, 'lover': 2924, 'gem': 2925, 'plantains': 2926, 'spends': 2927, 'themselves': 2928, 'panna': 2929, 'cotta': 2930, 'flavors': 2931, 'slaw': 2932, 'drenched': 2933, 'piano': 2934, 'soundtrack': 2935, 'rge': 2936, 'fillet': 2937, 'relleno': 2938, 'sergeant': 2939, 'auju': 2940, 'hawaiian': 2941, 'breeze': 2942, 'mango': 2943, 'magic': 2944, 'pineapple': 2945, 'smoothies': 2946, 'mortified': 2947, 'anyways': 2948, 'dripping': 2949, '2007': 2950, 'hospitality': 2951, 'industry': 2952, 'paradise': 2953, 'refrained': 2954, 'recommending': 2955, 'cibo': 2956, 'mean': 2957, 'famous': 2958, 'mouths': 2959, 'bellies': 2960, 'reminded': 2961, 'dough': 2962, 'tonight': 2963, 'elk': 2964, 'hooked': 2965, 'classics': 2966, 'sorely': 2967, 'quaint': 2968, 'deliciously': 2969, 'dylan': 2970, 'tummy': 2971, 'gratuity': 2972, 'larger': 2973, 'apple': 2974, 'han': 2975, 'nan': 2976, \"ryan's\": 2977, 'edinburgh': 2978, 'revisiting': 2979, 'naan': 2980, 'pine': 2981, 'nut': 2982, 'touched': 2983, 'airport': 2984, 'speedy': 2985, 'calligraphy': 2986, 'stood': 2987, 'begin': 2988, 'awkwardly': 2989, 'opened': 2990, 'guest': 2991, 'extensive': 2992, 'wide': 2993, 'array': 2994, 'inflate': 2995, 'smaller': 2996, 'grow': 2997, 'rapidly': 2998, 'lil': 2999, 'fuzzy': 3000, 'wontons': 3001, 'thick': 3002, 'level': 3003, 'spice': 3004, 'whelm': 3005, 'main': 3006, 'older': 3007, '30s': 3008, 'arepas': 3009, 'jalapeno': 3010, 'shoe': 3011, 'block': 3012, 'fancy': 3013, 'affordable': 3014, 'sour': 3015, 'soups': 3016, 'sunday': 3017, 'traditional': 3018, 'hunan': 3019, 'flair': 3020, 'bartenders': 3021, 'nutshell': 3022, 'restaraunt': 3023, 'smells': 3024, 'sewer': 3025, \"girlfriend's\": 3026, 'veal': 3027, 'satifying': 3028, 'join': 3029, 'club': 3030, 'email': 3031, 'colder': 3032, 'describing': 3033, 'tepid': 3034, 'chains': 3035, 'words': 3036, 'crowds': 3037, 'juries': 3038, 'lawyers': 3039, 'court': 3040, 'arrives': 3041, 'paying': 3042, '85': 3043, \"kid's\": 3044, 'wienerschnitzel': 3045, 'classic': 3046, 'maine': 3047, 'roll': 3048, 'brother': 3049, 'law': 3050, 'hereas': 3051, 'event': 3052, 'held': 3053, 'pissd': 3054, 'surprise': 3055, 'golden': 3056, 'hopes': 3057, 'bruschetta': 3058, 'devine': 3059, 'employee': 3060, 'lastly': 3061, 'mozzarella': 3062, 'negligent': 3063, 'unwelcome': 3064, 'suggest': 3065, 'consistent': 3066, 'packed': 3067, 'seasonal': 3068, 'fruit': 3069, 'peach': 3070, 'officially': 3071, 'blown': 3072, 'containers': 3073, 'opposed': 3074, 'cramming': 3075, 'takeout': 3076, 'boxes': 3077, 'crêpe': 3078, 'delicate': 3079, 'fair': 3080, 'kabuki': 3081, 'maria': 3082, 'article': 3083, 'spices': 3084, 'fucking': 3085, \"caballero's\": 3086, 'head': 3087, 'oysters': 3088, 'round': 3089, 'disbelief': 3090, 'qualified': 3091, 'version': 3092, 'foods': 3093, 'tolerance': 3094, 'polite': 3095, 'wash': 3096, 'biscuit': 3097, 'coconut': 3098, 'fella': 3099, 'huevos': 3100, 'rancheros': 3101, 'wines': 3102, 'pricey': 3103, 'temp': 3104, 'prepare': 3105, 'bare': 3106, 'gloves': 3107, 'deep': 3108, 'oil': 3109, 'pleasure': 3110, 'plethora': 3111, 'sandwiches': 3112, 'seal': 3113, 'approval': 3114, 'college': 3115, 'cooking': 3116, 'class': 3117, 'editing': 3118, 'besides': 3119, \"costco's\": 3120, 'highlighted': 3121, 'unique': 3122, 'grocery': 3123, 'japanese': 3124, 'dude': 3125, 'doughy': 3126, 'inch': 3127, 'wire': 3128, 'ourselves': 3129, 'albondigas': 3130, 'tomato': 3131, 'meatballs': 3132, 'occasions': 3133, 'medium': 3134, 'bloodiest': 3135, 'anymore': 3136, 'chai': 3137, 'latte': 3138, 'allergy': 3139, 'warnings': 3140, 'clue': 3141, 'contain': 3142, 'peanuts': 3143, 'mediterranean': 3144, 'beers': 3145, 'highlight': 3146, 'concern': 3147, 'mellow': 3148, 'mushroom': 3149, 'strawberry': 3150, 'unprofessional': 3151, 'loyal': 3152, 'patron': 3153, 'occasional': 3154, 'pats': 3155, 'bellagio': 3156, 'anticipated': 3157, 'sals': 3158, 'fav': 3159, 'unexperienced': 3160, 'employees': 3161, 'chickens': 3162, 'heads': 3163, 'steakhouse': 3164, 'concept': 3165, 'guacamole': 3166, 'puréed': 3167, 'postinos': 3168, 'poisoning': 3169, 'batch': 3170, 'thinking': 3171, 'yay': 3172, 'hilarious': 3173, 'eve': 3174, 'remember': 3175, 'caring': 3176, 'teamwork': 3177, 'degree': 3178, 'ri': 3179, 'calamari': 3180, 'fondue': 3181, 'scene': 3182, \"denny's\": 3183, 'downright': 3184, 'waaaaaayyyyyyyyyy': 3185, 'sangria': 3186, 'glass': 3187, 'ridiculous': 3188, 'brisket': 3189, 'trippy': 3190, 'hurry': 3191, 'reservation': 3192, 'stretch': 3193, 'imagination': 3194, 'cashew': 3195, 'chipolte': 3196, 'ranch': 3197, 'dipping': 3198, 'sause': 3199, 'watered': 3200, 'workers': 3201, 'douchey': 3202, 'indoor': 3203, 'garden': 3204, 'con': 3205, 'spotty': 3206, 'ensued': 3207, 'apologize': 3208, 'fill': 3209, 'binge': 3210, 'drinking': 3211, 'carbs': 3212, 'insults': 3213, 'profound': 3214, 'deuchebaggery': 3215, 'solidify': 3216, \"don't'\": 3217, 'combo': 3218, 'ala': 3219, 'cart': 3220, 'blame': 3221, 'rave': 3222, 'del': 3223, 'avoided': 3224, 'hamburger': 3225, 'hell': 3226, \"ya'all\": 3227, 'fireball': 3228, 'disapppointment': 3229, 'correction': 3230, 'heimer': 3231, 'putting': 3232, 'cause': 3233, 'vomited': 3234, 'circumstances': 3235, 'tops': 3236, 'brownish': 3237, 'movies': 3238, 'ha': 3239, 'flop': 3240, '99': 3241, 'bigger': 3242, 'unwrapped': 3243, 'mile': 3244, 'brushfire': 3245, \"hasn't\": 3246, 'closed': 3247, 'mirage': 3248, 'refried': 3249, 'dried': 3250, 'crusty': 3251, 'caterpillar': 3252, 'appetite': 3253, 'instantly': 3254, 'ninja': 3255, \"hadn't\": 3256, 'poured': 3257, 'wound': 3258, 'drawing': 3259}\n"
     ]
    }
   ],
   "source": [
    "tokenizer = Tokenizer(oov_token=\"<OOV>\")\n",
    "tokenizer.fit_on_texts(reviews)\n",
    "\n",
    "word_index = tokenizer.word_index\n",
    "print(len(word_index))\n",
    "print(word_index)\n"
   ]
  },
  {
   "cell_type": "code",
   "execution_count": 81,
   "id": "76d2a688",
   "metadata": {},
   "outputs": [
    {
     "name": "stdout",
     "output_type": "stream",
     "text": [
      "(1992, 139)\n",
      "So there is no way for me to plug it in here in the US unless I go by a converter.\n",
      "[  30   59    8   56  142   13   61    7  269    6   15   45   15    2\n",
      "  149  449    4   60  113    5 1430    0    0    0    0    0    0    0\n",
      "    0    0    0    0    0    0    0    0    0    0    0    0    0    0\n",
      "    0    0    0    0    0    0    0    0    0    0    0    0    0    0\n",
      "    0    0    0    0    0    0    0    0    0    0    0    0    0    0\n",
      "    0    0    0    0    0    0    0    0    0    0    0    0    0    0\n",
      "    0    0    0    0    0    0    0    0    0    0    0    0    0    0\n",
      "    0    0    0    0    0    0    0    0    0    0    0    0    0    0\n",
      "    0    0    0    0    0    0    0    0    0    0    0    0    0    0\n",
      "    0    0    0    0    0    0    0    0    0    0    0    0    0]\n"
     ]
    }
   ],
   "source": [
    "sequences = tokenizer.texts_to_sequences(reviews)\n",
    "padded_sequences = pad_sequences(sequences, padding='post')\n",
    "\n",
    "# What is the shape of the vector containing the padded sequences?\n",
    "# The shape shows the number of sequences and the length of each one.\n",
    "print(padded_sequences.shape)\n",
    "\n",
    "# What is the first review?\n",
    "print (reviews[0])\n",
    "\n",
    "# Show the sequence for the first review\n",
    "print(padded_sequences[0])\n",
    "\n",
    "# Try printing the review and padded sequence for other elements."
   ]
  },
  {
   "cell_type": "code",
   "execution_count": 82,
   "id": "e8b68c2a",
   "metadata": {},
   "outputs": [
    {
     "data": {
      "text/plain": [
       "keras.layers.core.embedding.Embedding"
      ]
     },
     "execution_count": 82,
     "metadata": {},
     "output_type": "execute_result"
    }
   ],
   "source": [
    "tf.keras.layers.Embedding"
   ]
  },
  {
   "cell_type": "code",
   "execution_count": 83,
   "id": "a3771ec0",
   "metadata": {},
   "outputs": [],
   "source": [
    "\n",
    "sentences = dataset['text'].tolist()\n",
    "labels = dataset['sentiment'].tolist()\n",
    "# Separate out the sentences and labels into training and test sets\n",
    "training_size = int(len(sentences) * 0.8)\n",
    "\n",
    "training_sentences = sentences[0:training_size]\n",
    "testing_sentences = sentences[training_size:]\n",
    "training_labels = labels[0:training_size]\n",
    "testing_labels = labels[training_size:]\n",
    "\n",
    "# Make labels into numpy arrays for use with the network later\n",
    "training_labels_final = np.array(training_labels)\n",
    "testing_labels_final = np.array(testing_labels)"
   ]
  },
  {
   "cell_type": "code",
   "execution_count": 84,
   "id": "3f7dfb18",
   "metadata": {},
   "outputs": [],
   "source": [
    "vocab_size = 1000\n",
    "embedding_dim = 16\n",
    "max_length = 100\n",
    "trunc_type='post'\n",
    "padding_type='post'\n",
    "oov_tok = \"<OOV>\"\n",
    "\n",
    "\n",
    "from tensorflow.keras.preprocessing.text import Tokenizer\n",
    "from tensorflow.keras.preprocessing.sequence import pad_sequences\n",
    "\n",
    "tokenizer = Tokenizer(num_words = vocab_size, oov_token=oov_tok)\n",
    "tokenizer.fit_on_texts(training_sentences)\n",
    "word_index = tokenizer.word_index\n",
    "sequences = tokenizer.texts_to_sequences(training_sentences)\n",
    "padded = pad_sequences(sequences,maxlen=max_length, padding=padding_type, \n",
    "                       truncating=trunc_type)\n",
    "\n",
    "testing_sequences = tokenizer.texts_to_sequences(testing_sentences)\n",
    "testing_padded = pad_sequences(testing_sequences,maxlen=max_length, \n",
    "                               padding=padding_type, truncating=trunc_type)"
   ]
  },
  {
   "cell_type": "code",
   "execution_count": 85,
   "id": "818380df",
   "metadata": {},
   "outputs": [
    {
     "name": "stdout",
     "output_type": "stream",
     "text": [
      "good case excellent value ? ? ? ? ? ? ? ? ? ? ? ? ? ? ? ? ? ? ? ? ? ? ? ? ? ? ? ? ? ? ? ? ? ? ? ? ? ? ? ? ? ? ? ? ? ? ? ? ? ? ? ? ? ? ? ? ? ? ? ? ? ? ? ? ? ? ? ? ? ? ? ? ? ? ? ? ? ? ? ? ? ? ? ? ? ? ? ? ? ? ? ? ? ? ? ?\n",
      "Good case Excellent value.\n"
     ]
    }
   ],
   "source": [
    "reverse_word_index = dict([(value, key) for (key, value) in word_index.items()])\n",
    "\n",
    "def decode_review(text):\n",
    "    return ' '.join([reverse_word_index.get(i, '?') for i in text])\n",
    "\n",
    "print(decode_review(padded[1]))\n",
    "print(training_sentences[1])"
   ]
  },
  {
   "cell_type": "code",
   "execution_count": 86,
   "id": "71617d4b",
   "metadata": {},
   "outputs": [
    {
     "name": "stdout",
     "output_type": "stream",
     "text": [
      "Model: \"sequential_2\"\n",
      "_________________________________________________________________\n",
      " Layer (type)                Output Shape              Param #   \n",
      "=================================================================\n",
      " embedding_2 (Embedding)     (None, 100, 16)           16000     \n",
      "                                                                 \n",
      " flatten_2 (Flatten)         (None, 1600)              0         \n",
      "                                                                 \n",
      " dense_4 (Dense)             (None, 6)                 9606      \n",
      "                                                                 \n",
      " dense_5 (Dense)             (None, 1)                 7         \n",
      "                                                                 \n",
      "=================================================================\n",
      "Total params: 25,613\n",
      "Trainable params: 25,613\n",
      "Non-trainable params: 0\n",
      "_________________________________________________________________\n"
     ]
    }
   ],
   "source": [
    "# Build a basic sentiment network\n",
    "# Note the embedding layer is first, \n",
    "# and the output is only 1 node as it is either 0 or 1 (negative or positive)\n",
    "model = tf.keras.Sequential([\n",
    "    tf.keras.layers.Embedding(vocab_size, embedding_dim, input_length=max_length),\n",
    "    tf.keras.layers.Flatten(),  \n",
    "    tf.keras.layers.Dense(6, activation='relu'),\n",
    "    tf.keras.layers.Dense(1, activation='sigmoid')\n",
    "])\n",
    "model.compile(loss='binary_crossentropy',optimizer='adam',metrics=['accuracy'])\n",
    "model.summary()\n",
    "\n"
   ]
  },
  {
   "cell_type": "code",
   "execution_count": 87,
   "id": "6991929c",
   "metadata": {},
   "outputs": [
    {
     "name": "stdout",
     "output_type": "stream",
     "text": [
      "Epoch 1/20\n",
      "50/50 [==============================] - 1s 8ms/step - loss: 0.6924 - accuracy: 0.5261 - val_loss: 0.7113 - val_accuracy: 0.4110\n",
      "Epoch 2/20\n",
      "50/50 [==============================] - 0s 3ms/step - loss: 0.6898 - accuracy: 0.5229 - val_loss: 0.6992 - val_accuracy: 0.4110\n",
      "Epoch 3/20\n",
      "50/50 [==============================] - 0s 3ms/step - loss: 0.6810 - accuracy: 0.5248 - val_loss: 0.6917 - val_accuracy: 0.4511\n",
      "Epoch 4/20\n",
      "50/50 [==============================] - 0s 3ms/step - loss: 0.6594 - accuracy: 0.5876 - val_loss: 0.6813 - val_accuracy: 0.5088\n",
      "Epoch 5/20\n",
      "50/50 [==============================] - 0s 3ms/step - loss: 0.6186 - accuracy: 0.6560 - val_loss: 0.6769 - val_accuracy: 0.4762\n",
      "Epoch 6/20\n",
      "50/50 [==============================] - 0s 3ms/step - loss: 0.5296 - accuracy: 0.7571 - val_loss: 0.6202 - val_accuracy: 0.7118\n",
      "Epoch 7/20\n",
      "50/50 [==============================] - 0s 4ms/step - loss: 0.4219 - accuracy: 0.8920 - val_loss: 0.4993 - val_accuracy: 0.7619\n",
      "Epoch 8/20\n",
      "50/50 [==============================] - 0s 3ms/step - loss: 0.2527 - accuracy: 0.9517 - val_loss: 0.4607 - val_accuracy: 0.7769\n",
      "Epoch 9/20\n",
      "50/50 [==============================] - 0s 3ms/step - loss: 0.1747 - accuracy: 0.9611 - val_loss: 0.4763 - val_accuracy: 0.7845\n",
      "Epoch 10/20\n",
      "50/50 [==============================] - 0s 3ms/step - loss: 0.1311 - accuracy: 0.9730 - val_loss: 0.4694 - val_accuracy: 0.7845\n",
      "Epoch 11/20\n",
      "50/50 [==============================] - 0s 4ms/step - loss: 0.1013 - accuracy: 0.9824 - val_loss: 0.5258 - val_accuracy: 0.7569\n",
      "Epoch 12/20\n",
      "50/50 [==============================] - 0s 4ms/step - loss: 0.0838 - accuracy: 0.9862 - val_loss: 0.4883 - val_accuracy: 0.7895\n",
      "Epoch 13/20\n",
      "50/50 [==============================] - 0s 3ms/step - loss: 0.0671 - accuracy: 0.9893 - val_loss: 0.5072 - val_accuracy: 0.7870\n",
      "Epoch 14/20\n",
      "50/50 [==============================] - 0s 3ms/step - loss: 0.0557 - accuracy: 0.9912 - val_loss: 0.5034 - val_accuracy: 0.7870\n",
      "Epoch 15/20\n",
      "50/50 [==============================] - 0s 3ms/step - loss: 0.0463 - accuracy: 0.9912 - val_loss: 0.6144 - val_accuracy: 0.7318\n",
      "Epoch 16/20\n",
      "50/50 [==============================] - 0s 3ms/step - loss: 0.0400 - accuracy: 0.9931 - val_loss: 0.6730 - val_accuracy: 0.7243\n",
      "Epoch 17/20\n",
      "50/50 [==============================] - 0s 3ms/step - loss: 0.0350 - accuracy: 0.9918 - val_loss: 0.6241 - val_accuracy: 0.7444\n",
      "Epoch 18/20\n",
      "50/50 [==============================] - 0s 4ms/step - loss: 0.0291 - accuracy: 0.9937 - val_loss: 0.6692 - val_accuracy: 0.7368\n",
      "Epoch 19/20\n",
      "50/50 [==============================] - 0s 3ms/step - loss: 0.0252 - accuracy: 0.9969 - val_loss: 0.6198 - val_accuracy: 0.7744\n",
      "Epoch 20/20\n",
      "50/50 [==============================] - 0s 3ms/step - loss: 0.0233 - accuracy: 0.9962 - val_loss: 0.6352 - val_accuracy: 0.7744\n"
     ]
    }
   ],
   "source": [
    "num_epochs = 20\n",
    "history=model.fit(padded, training_labels_final, epochs=num_epochs, validation_data=(testing_padded, testing_labels_final))"
   ]
  },
  {
   "cell_type": "code",
   "execution_count": 88,
   "id": "9af86778",
   "metadata": {},
   "outputs": [
    {
     "name": "stdout",
     "output_type": "stream",
     "text": [
      "(1000, 16)\n"
     ]
    }
   ],
   "source": [
    "# First get the weights of the embedding layer\n",
    "e = model.layers[0]\n",
    "weights = e.get_weights()[0]\n",
    "print(weights.shape) # shape: (vocab_size, embedding_dim)"
   ]
  },
  {
   "cell_type": "code",
   "execution_count": 89,
   "id": "8f738bf5",
   "metadata": {},
   "outputs": [],
   "source": [
    "import io\n",
    "\n",
    "# Write out the embedding vectors and metadata\n",
    "out_v = io.open('vecs.tsv', 'w', encoding='utf-8')\n",
    "out_m = io.open('meta.tsv', 'w', encoding='utf-8')\n",
    "for word_num in range(1, vocab_size):\n",
    "  word = reverse_word_index[word_num]\n",
    "  embeddings = weights[word_num]\n",
    "  out_m.write(word + \"\\n\")\n",
    "  out_v.write('\\t'.join([str(x) for x in embeddings]) + \"\\n\")\n",
    "out_v.close()\n",
    "out_m.close()"
   ]
  },
  {
   "cell_type": "code",
   "execution_count": 90,
   "id": "ada91ba5",
   "metadata": {},
   "outputs": [],
   "source": [
    "# Download the files\n",
    "try:\n",
    "  from google.colab import files\n",
    "except ImportError:\n",
    "  pass\n",
    "else:\n",
    "  files.download('vecs.tsv')\n",
    "  files.download('meta.tsv')"
   ]
  },
  {
   "cell_type": "code",
   "execution_count": 91,
   "id": "517eac3e",
   "metadata": {},
   "outputs": [
    {
     "name": "stdout",
     "output_type": "stream",
     "text": [
      "['I love this phone', 'I hate spaghetti', 'Everything was cold', 'Everything was hot exactly as I wanted', 'Everything was green', 'the host seated us immediately', 'they gave us free chocolate cake', 'not sure about the wilted flowers on the table', 'only works when I stand on tippy toes', 'does not work when I stand on my head']\n",
      "\n",
      "HOT OFF THE PRESS! HERE ARE SOME NEWLY MINTED, ABSOLUTELY GENUINE REVIEWS!\n",
      "\n",
      "1/1 [==============================] - 0s 102ms/step\n",
      "[[0.9998624 ]\n",
      " [0.00317069]\n",
      " [0.04716052]\n",
      " [0.41977707]\n",
      " [0.17698982]\n",
      " [0.99099845]\n",
      " [0.9966564 ]\n",
      " [0.00345443]\n",
      " [0.99872905]\n",
      " [0.00229291]]\n",
      "I love this phone\n",
      "[0.9998624]\n",
      "\n",
      "\n",
      "I hate spaghetti\n",
      "[0.00317069]\n",
      "\n",
      "\n",
      "Everything was cold\n",
      "[0.04716052]\n",
      "\n",
      "\n",
      "Everything was hot exactly as I wanted\n",
      "[0.41977707]\n",
      "\n",
      "\n",
      "Everything was green\n",
      "[0.17698982]\n",
      "\n",
      "\n",
      "the host seated us immediately\n",
      "[0.99099845]\n",
      "\n",
      "\n",
      "they gave us free chocolate cake\n",
      "[0.9966564]\n",
      "\n",
      "\n",
      "not sure about the wilted flowers on the table\n",
      "[0.00345443]\n",
      "\n",
      "\n",
      "only works when I stand on tippy toes\n",
      "[0.99872905]\n",
      "\n",
      "\n",
      "does not work when I stand on my head\n",
      "[0.00229291]\n",
      "\n",
      "\n"
     ]
    }
   ],
   "source": [
    "# Use the model to predict a review   \n",
    "fake_reviews = ['I love this phone', 'I hate spaghetti', \n",
    "                'Everything was cold',\n",
    "                'Everything was hot exactly as I wanted', \n",
    "                'Everything was green', \n",
    "                'the host seated us immediately',\n",
    "                'they gave us free chocolate cake', \n",
    "                'not sure about the wilted flowers on the table',\n",
    "                'only works when I stand on tippy toes', \n",
    "                'does not work when I stand on my head']\n",
    "\n",
    "print(fake_reviews) \n",
    "\n",
    "# Create the sequences\n",
    "padding_type='post'\n",
    "sample_sequences = tokenizer.texts_to_sequences(fake_reviews)\n",
    "\n",
    "fakes_padded = pad_sequences(sample_sequences, padding=padding_type, maxlen=max_length)           \n",
    "\n",
    "print('\\nHOT OFF THE PRESS! HERE ARE SOME NEWLY MINTED, ABSOLUTELY GENUINE REVIEWS!\\n')              \n",
    "\n",
    "classes = model.predict(fakes_padded)\n",
    "print(classes)\n",
    "\n",
    "# The closer the class is to 1, the more positive the review is deemed to be\n",
    "for x in range(len(fake_reviews)):\n",
    "  print(fake_reviews[x])\n",
    "  print(classes[x])\n",
    " \n",
    "  print('\\n')\n",
    "\n",
    "\n",
    "# Try adding reviews of your own\n",
    "# Add some negative words (such as \"not\") to the good reviews and see what happens\n",
    "# For example:\n",
    "# they gave us free chocolate cake and did not charge us"
   ]
  },
  {
   "cell_type": "code",
   "execution_count": 92,
   "id": "36a450c9",
   "metadata": {},
   "outputs": [
    {
     "name": "stdout",
     "output_type": "stream",
     "text": [
      "I love this phone\n",
      "1/1 [==============================] - 0s 26ms/step\n",
      "[[0.9998624]]\n"
     ]
    }
   ],
   "source": [
    "\n",
    "# Use the model to predict a review   \n",
    "\n",
    "l=[]\n",
    "# Use the model to predict a review   \n",
    "fake_reviews = 'I love this phone'\n",
    "l.append(fake_reviews)\n",
    "print(fake_reviews) \n",
    "\n",
    "# Create the sequences\n",
    "padding_type='post'\n",
    "sample_sequences = tokenizer.texts_to_sequences(l)\n",
    "\n",
    "fakes_padded = pad_sequences(sample_sequences, padding=padding_type, maxlen=max_length)           \n",
    "\n",
    "         \n",
    "\n",
    "classes = model.predict(fakes_padded)\n",
    "\n",
    "\n",
    "# The closer the class is to 1, the more positive the review is deemed to be\n",
    "\n",
    "\n",
    "print(classes)\n",
    "\n"
   ]
  },
  {
   "cell_type": "code",
   "execution_count": 93,
   "id": "17184869",
   "metadata": {},
   "outputs": [
    {
     "name": "stdout",
     "output_type": "stream",
     "text": [
      "INFO:tensorflow:Assets written to: ram://aa69e1f7-581f-480c-b2cf-3dbd95ec9381/assets\n"
     ]
    }
   ],
   "source": [
    "import joblib\n",
    "pipeline_file=open(\"customer_review.pkl\",\"wb\")\n",
    "joblib.dump(model,pipeline_file)\n",
    "pipeline_file.close()"
   ]
  },
  {
   "cell_type": "code",
   "execution_count": 94,
   "id": "28e1cf7d",
   "metadata": {},
   "outputs": [],
   "source": [
    "from tensorflow.keras.models import Model, load_model \n",
    "# Save Model and Weights\n",
    "model.save('F:/emotion/models/modelReview.h5')\n",
    "model.save_weights('F:/emotion/models/ModelReview.hdf5')\n",
    "# Load saved model\n",
    "model = load_model('F:/emotion/models/ModelReview.h5')"
   ]
  },
  {
   "cell_type": "code",
   "execution_count": 95,
   "id": "1077ee6a",
   "metadata": {},
   "outputs": [
    {
     "data": {
      "text/plain": [
       "\"\\ndef predict_comments(docx):\\n    l=[]\\n    l.append(docx)\\n    padding_type='post'\\n    max_length = 100\\n    sample_sequences = Tokenizer.texts_to_sequences(l)\\n    fakes_padded = pad_sequences(sample_sequences, padding=padding_type, maxlen=max_length)           \\n\\n    result=model.predict(fakes_padded)\\n\\n    return result\\n\""
      ]
     },
     "execution_count": 95,
     "metadata": {},
     "output_type": "execute_result"
    }
   ],
   "source": [
    "\"\"\"\n",
    "def predict_comments(docx):\n",
    "    l=[]\n",
    "    l.append(docx)\n",
    "    padding_type='post'\n",
    "    max_length = 100\n",
    "    sample_sequences = Tokenizer.texts_to_sequences(l)\n",
    "    fakes_padded = pad_sequences(sample_sequences, padding=padding_type, maxlen=max_length)           \n",
    "\n",
    "    result=model.predict(fakes_padded)\n",
    "\n",
    "    return result\n",
    "\"\"\""
   ]
  },
  {
   "cell_type": "code",
   "execution_count": 96,
   "id": "385930ca",
   "metadata": {},
   "outputs": [],
   "source": [
    "padding_type='post'\n",
    "vocab_size = 1000\n",
    "\n",
    "max_length = 100\n",
    "\n",
    "padding_type='post'\n",
    "oov_tok = \"<OOV>\"\n",
    "l=[]\n",
    "def get_comment(a):\n",
    "\n",
    "  \n",
    "    l.append(a)\n",
    "    padding_type='post'\n",
    "    sample_sequences = tokenizer.texts_to_sequences(l)\n",
    "\n",
    "    fakes_padded = pad_sequences(sample_sequences, padding=padding_type, maxlen=max_length)           \n",
    "\n",
    "         \n",
    "\n",
    "    classes = model.predict(fakes_padded)\n",
    "    return classes\n",
    "\n",
    "\n",
    "\n",
    "\n",
    "\n",
    "\n"
   ]
  },
  {
   "cell_type": "code",
   "execution_count": 97,
   "id": "cac722d0",
   "metadata": {},
   "outputs": [
    {
     "name": "stdout",
     "output_type": "stream",
     "text": [
      "1/1 [==============================] - 0s 84ms/step\n",
      "[[0.9998624]]\n"
     ]
    }
   ],
   "source": [
    "classes=get_comment('I love this phone')\n",
    "print(classes)"
   ]
  },
  {
   "cell_type": "code",
   "execution_count": 98,
   "id": "85d75662",
   "metadata": {},
   "outputs": [
    {
     "data": {
      "image/png": "[encoded data removed]",
      "text/plain": [
       "<Figure size 864x576 with 1 Axes>"
      ]
     },
     "metadata": {
      "needs_background": "light"
     },
     "output_type": "display_data"
    },
    {
     "data": {
      "image/png": "[encoded data removed]",
      "text/plain": [
       "<Figure size 864x576 with 1 Axes>"
      ]
     },
     "metadata": {
      "needs_background": "light"
     },
     "output_type": "display_data"
    }
   ],
   "source": [
    "   import matplotlib.pyplot as plt\n",
    "acc=history.history['accuracy']\n",
    "val_acc =history.history['val_accuracy']#validation acc\n",
    "loss = history.history['loss']\n",
    "val_loss= history.history['val_loss']\n",
    "epochs= len(acc)\n",
    "plt.figure(figsize=(12,8))\n",
    "plt.plot(np.arange(epochs),acc,label=\"train acc\")\n",
    "\n",
    "plt.plot(np.arange(epochs),val_acc,label=\"validation acc\")\n",
    "plt.title(\"train acc vs validation acc\")\n",
    "plt.legend()\n",
    "plt.show()\n",
    "plt.figure(figsize=(12,8))\n",
    "plt.plot(np.arange(epochs),loss,label=\"train loss\")\n",
    "\n",
    "plt.plot(np.arange(epochs),val_loss,label=\"validation loss\")\n",
    "plt.title(\"train loss vs validation loss\")\n",
    "plt.legend()\n",
    "plt.show()"
   ]
  },
  {
   "cell_type": "code",
   "execution_count": 103,
   "id": "f1128edd",
   "metadata": {},
   "outputs": [],
   "source": [
    "TF_LITE_MODEL_FILE_NAME=\"mode.tflite\""
   ]
  },
  {
   "cell_type": "code",
   "execution_count": 104,
   "id": "2bebd49b",
   "metadata": {},
   "outputs": [],
   "source": [
    "import tensorflow as tf\n",
    "tf_lite_converter=tf.lite.TFLiteConverter.from_keras_model(model)"
   ]
  },
  {
   "cell_type": "code",
   "execution_count": 105,
   "id": "b4e1dcc2",
   "metadata": {},
   "outputs": [
    {
     "name": "stdout",
     "output_type": "stream",
     "text": [
      "INFO:tensorflow:Assets written to: C:\\Users\\msi\\AppData\\Local\\Temp\\tmp5w46lyhs\\assets\n"
     ]
    },
    {
     "name": "stderr",
     "output_type": "stream",
     "text": [
      "INFO:tensorflow:Assets written to: C:\\Users\\msi\\AppData\\Local\\Temp\\tmp5w46lyhs\\assets\n"
     ]
    }
   ],
   "source": [
    "tflite_model=tf_lite_converter.convert()"
   ]
  },
  {
   "cell_type": "code",
   "execution_count": 106,
   "id": "811236e7",
   "metadata": {},
   "outputs": [
    {
     "data": {
      "text/plain": [
       "104932"
      ]
     },
     "execution_count": 106,
     "metadata": {},
     "output_type": "execute_result"
    }
   ],
   "source": [
    "tflite_model_name=TF_LITE_MODEL_FILE_NAME\n",
    "open(tflite_model_name,\"wb\").write(tflite_model)"
   ]
  },
  {
   "cell_type": "code",
   "execution_count": null,
   "id": "7d060cd2",
   "metadata": {},
   "outputs": [],
   "source": []
  }
 ],
 "metadata": {
  "kernelspec": {
   "display_name": "Python 3 (ipykernel)",
   "language": "python",
   "name": "python3"
  },
  "language_info": {
   "codemirror_mode": {
    "name": "ipython",
    "version": 3
   },
   "file_extension": ".py",
   "mimetype": "text/x-python",
   "name": "python",
   "nbconvert_exporter": "python",
   "pygments_lexer": "ipython3",
   "version": "3.9.12"
  }
 },
 "nbformat": 4,
 "nbformat_minor": 5
}
